{
 "cells": [
  {
   "cell_type": "code",
   "execution_count": 28,
   "metadata": {
    "collapsed": true,
    "ExecuteTime": {
     "end_time": "2023-12-02T19:06:05.131905Z",
     "start_time": "2023-12-02T19:06:05.057272Z"
    }
   },
   "outputs": [
    {
     "data": {
      "text/plain": "54573"
     },
     "execution_count": 28,
     "metadata": {},
     "output_type": "execute_result"
    }
   ],
   "source": [
    "var sum = 0\n",
    "\n",
    "File(\"dayOne.txt\").forEachLine { line: String ->\n",
    "    var firstChar: Char = '0'\n",
    "    var lastChar: Char = '0'\n",
    "\n",
    "    var chars = line.toCharArray().toList()\n",
    "\n",
    "    for (char in chars) {\n",
    "        if (char.isDigit()) {\n",
    "            firstChar = char\n",
    "            break;\n",
    "        }\n",
    "    }\n",
    "\n",
    "    chars = chars.reversed()\n",
    "\n",
    "    for (char in chars) {\n",
    "        if (char.isDigit()) {\n",
    "            lastChar = char\n",
    "            break;\n",
    "        }\n",
    "    }\n",
    "\n",
    "    val result = firstChar.plus(lastChar.toString()).toInt()\n",
    "    sum += result\n",
    "}\n",
    "\n",
    "sum"
   ]
  },
  {
   "cell_type": "code",
   "execution_count": 29,
   "outputs": [
    {
     "data": {
      "text/plain": "54591"
     },
     "execution_count": 29,
     "metadata": {},
     "output_type": "execute_result"
    }
   ],
   "source": [
    "var sum = 0\n",
    "\n",
    "File(\"dayOne.txt\").forEachLine { line: String ->\n",
    "    var firstChar: Char = '0'\n",
    "    var lastChar: Char = '0'\n",
    "\n",
    "    var newLine: String = line\n",
    "\n",
    "    mapOf(\n",
    "        \"one\" to \"one1one\",\n",
    "        \"two\" to \"two2two\",\n",
    "        \"three\" to \"three3three\",\n",
    "        \"four\" to \"fou4four\",\n",
    "        \"five\" to \"five5five\",\n",
    "        \"six\" to \"six6six\",\n",
    "        \"seven\" to \"seven7sevenn\",\n",
    "        \"eight\" to \"eight8eight\",\n",
    "        \"nine\" to \"nine9nine\"\n",
    "    ).forEach { entry ->\n",
    "        newLine = newLine.replace(entry.key, entry.value)\n",
    "    }\n",
    "\n",
    "    var chars = newLine.toCharArray().toList()\n",
    "\n",
    "    for (char in chars) {\n",
    "        if (char.isDigit()) {\n",
    "            firstChar = char\n",
    "            break;\n",
    "        }\n",
    "    }\n",
    "\n",
    "    chars = chars.reversed()\n",
    "\n",
    "    for (char in chars) {\n",
    "        if (char.isDigit()) {\n",
    "            lastChar = char\n",
    "            break;\n",
    "        }\n",
    "    }\n",
    "\n",
    "    val result = firstChar.plus(lastChar.toString()).toInt()\n",
    "    sum += result\n",
    "}\n",
    "\n",
    "sum"
   ],
   "metadata": {
    "collapsed": false,
    "ExecuteTime": {
     "end_time": "2023-12-02T19:06:05.231820Z",
     "start_time": "2023-12-02T19:06:05.130851Z"
    }
   }
  },
  {
   "cell_type": "code",
   "execution_count": 30,
   "outputs": [
    {
     "data": {
      "text/plain": "2795"
     },
     "execution_count": 30,
     "metadata": {},
     "output_type": "execute_result"
    }
   ],
   "source": [
    "val result: MutableList<Int> = mutableListOf()\n",
    "\n",
    "File(\"dayTwo.txt\").forEachLine { line: String ->\n",
    "    var gameNumber = 0\n",
    "    var isPossible = true\n",
    "\n",
    "    val pattern = Pattern.compile(\"Game (\\\\d+):\")\n",
    "    val matcher = pattern.matcher(line)\n",
    "    while (matcher.find()) {\n",
    "        gameNumber = matcher.group(1).toInt()\n",
    "    }\n",
    "\n",
    "    val split: List<String> = line.split(\":\")\n",
    "    val games = split[1].split(\";\")\n",
    "\n",
    "\n",
    "    for (game in games) {\n",
    "        val cubes = game.split(\",\")\n",
    "        for (cube in cubes) {\n",
    "            val pattern = Pattern.compile(\"(\\\\d+)\\\\s(\\\\w+)\")\n",
    "            val matcher = pattern.matcher(cube.trim())\n",
    "\n",
    "            while (matcher.find()) {\n",
    "                val quantity = matcher.group(1).toInt()\n",
    "                val color = matcher.group(2)\n",
    "\n",
    "                when (color) {\n",
    "                    \"red\" -> if (quantity > 12) isPossible = false\n",
    "                    \"green\" -> if(quantity > 13) isPossible = false\n",
    "                    \"blue\" -> if (quantity > 14) isPossible = false\n",
    "                }\n",
    "            }\n",
    "        }\n",
    "    }\n",
    "    \n",
    "    if (isPossible) {\n",
    "        result.add(gameNumber)\n",
    "    }\n",
    "}\n",
    "\n",
    "sum = result.sum()\n",
    "sum\n"
   ],
   "metadata": {
    "collapsed": false,
    "ExecuteTime": {
     "end_time": "2023-12-02T19:06:05.337430Z",
     "start_time": "2023-12-02T19:06:05.230842Z"
    }
   }
  },
  {
   "cell_type": "markdown",
   "source": [],
   "metadata": {
    "collapsed": false
   }
  },
  {
   "cell_type": "code",
   "execution_count": 31,
   "outputs": [
    {
     "data": {
      "text/plain": "75561"
     },
     "execution_count": 31,
     "metadata": {},
     "output_type": "execute_result"
    }
   ],
   "source": [
    "val result: MutableList<Int> = mutableListOf()\n",
    "\n",
    "File(\"dayTwo.txt\").forEachLine { line: String ->\n",
    "\n",
    "    var minOfRed = 0\n",
    "    var minOfBlue = 0\n",
    "    var minOfGreen = 0\n",
    "\n",
    "    val split: List<String> = line.split(\":\")\n",
    "    val games = split[1].split(\";\")\n",
    "\n",
    "\n",
    "    for (game in games) {\n",
    "        val cubes = game.split(\",\")\n",
    "        for (cube in cubes) {\n",
    "            val pattern = Pattern.compile(\"(\\\\d+)\\\\s(\\\\w+)\")\n",
    "            val matcher = pattern.matcher(cube.trim())\n",
    "\n",
    "            while (matcher.find()) {\n",
    "                val quantity = matcher.group(1).toInt()\n",
    "                val color = matcher.group(2)\n",
    "\n",
    "                when (color) {\n",
    "                    \"red\" -> if (quantity > minOfRed) minOfRed = quantity\n",
    "                    \"green\" -> if (quantity > minOfGreen) minOfGreen = quantity\n",
    "                    \"blue\" -> if (quantity > minOfBlue) minOfBlue = quantity\n",
    "                }\n",
    "            }\n",
    "        }\n",
    "    }\n",
    "    \n",
    "    val total = minOfBlue * minOfRed * minOfGreen\n",
    "    result.add(total)\n",
    "}\n",
    "\n",
    "val sum = result.sum()\n",
    "sum"
   ],
   "metadata": {
    "collapsed": false,
    "ExecuteTime": {
     "end_time": "2023-12-02T19:06:05.429286Z",
     "start_time": "2023-12-02T19:06:05.336292Z"
    }
   }
  }
 ],
 "metadata": {
  "kernelspec": {
   "display_name": "Kotlin",
   "language": "kotlin",
   "name": "kotlin"
  },
  "language_info": {
   "name": "kotlin",
   "version": "1.9.0",
   "mimetype": "text/x-kotlin",
   "file_extension": ".kt",
   "pygments_lexer": "kotlin",
   "codemirror_mode": "text/x-kotlin",
   "nbconvert_exporter": ""
  }
 },
 "nbformat": 4,
 "nbformat_minor": 0
}
