{
 "cells": [
  {
   "cell_type": "code",
   "execution_count": 53,
   "metadata": {
    "collapsed": true,
    "ExecuteTime": {
     "end_time": "2023-12-03T16:29:42.129780Z",
     "start_time": "2023-12-03T16:29:42.073092Z"
    }
   },
   "outputs": [
    {
     "data": {
      "text/plain": "54573"
     },
     "execution_count": 53,
     "metadata": {},
     "output_type": "execute_result"
    }
   ],
   "source": [
    "import java.io.File\n",
    "\n",
    "var sum = 0\n",
    "\n",
    "File(\"dayOne.txt\").forEachLine { line: String ->\n",
    "    var firstChar: Char = '0'\n",
    "    var lastChar: Char = '0'\n",
    "\n",
    "    var chars = line.toCharArray().toList()\n",
    "\n",
    "    for (char in chars) {\n",
    "        if (char.isDigit()) {\n",
    "            firstChar = char\n",
    "            break;\n",
    "        }\n",
    "    }\n",
    "\n",
    "    chars = chars.reversed()\n",
    "\n",
    "    for (char in chars) {\n",
    "        if (char.isDigit()) {\n",
    "            lastChar = char\n",
    "            break;\n",
    "        }\n",
    "    }\n",
    "\n",
    "    val result = firstChar.plus(lastChar.toString()).toInt()\n",
    "    sum += result\n",
    "}\n",
    "\n",
    "sum"
   ]
  },
  {
   "cell_type": "code",
   "execution_count": 54,
   "outputs": [
    {
     "data": {
      "text/plain": "54591"
     },
     "execution_count": 54,
     "metadata": {},
     "output_type": "execute_result"
    }
   ],
   "source": [
    "var sum = 0\n",
    "\n",
    "File(\"dayOne.txt\").forEachLine { line: String ->\n",
    "    var firstChar: Char = '0'\n",
    "    var lastChar: Char = '0'\n",
    "\n",
    "    var newLine: String = line\n",
    "\n",
    "    mapOf(\n",
    "        \"one\" to \"one1one\",\n",
    "        \"two\" to \"two2two\",\n",
    "        \"three\" to \"three3three\",\n",
    "        \"four\" to \"fou4four\",\n",
    "        \"five\" to \"five5five\",\n",
    "        \"six\" to \"six6six\",\n",
    "        \"seven\" to \"seven7sevenn\",\n",
    "        \"eight\" to \"eight8eight\",\n",
    "        \"nine\" to \"nine9nine\"\n",
    "    ).forEach { entry ->\n",
    "        newLine = newLine.replace(entry.key, entry.value)\n",
    "    }\n",
    "\n",
    "    var chars = newLine.toCharArray().toList()\n",
    "\n",
    "    for (char in chars) {\n",
    "        if (char.isDigit()) {\n",
    "            firstChar = char\n",
    "            break;\n",
    "        }\n",
    "    }\n",
    "\n",
    "    chars = chars.reversed()\n",
    "\n",
    "    for (char in chars) {\n",
    "        if (char.isDigit()) {\n",
    "            lastChar = char\n",
    "            break;\n",
    "        }\n",
    "    }\n",
    "\n",
    "    val result = firstChar.plus(lastChar.toString()).toInt()\n",
    "    sum += result\n",
    "}\n",
    "\n",
    "sum"
   ],
   "metadata": {
    "collapsed": false,
    "ExecuteTime": {
     "end_time": "2023-12-03T16:29:42.200110Z",
     "start_time": "2023-12-03T16:29:42.128742Z"
    }
   }
  },
  {
   "cell_type": "code",
   "execution_count": 55,
   "outputs": [
    {
     "data": {
      "text/plain": "2795"
     },
     "execution_count": 55,
     "metadata": {},
     "output_type": "execute_result"
    }
   ],
   "source": [
    "val result: MutableList<Int> = mutableListOf()\n",
    "\n",
    "File(\"dayTwo.txt\").forEachLine { line: String ->\n",
    "    var gameNumber = 0\n",
    "    var isPossible = true\n",
    "\n",
    "    val pattern = Pattern.compile(\"Game (\\\\d+):\")\n",
    "    val matcher = pattern.matcher(line)\n",
    "    while (matcher.find()) {\n",
    "        gameNumber = matcher.group(1).toInt()\n",
    "    }\n",
    "\n",
    "    val split: List<String> = line.split(\":\")\n",
    "    val games = split[1].split(\";\")\n",
    "\n",
    "\n",
    "    for (game in games) {\n",
    "        val cubes = game.split(\",\")\n",
    "        for (cube in cubes) {\n",
    "            val pattern = Pattern.compile(\"(\\\\d+)\\\\s(\\\\w+)\")\n",
    "            val matcher = pattern.matcher(cube.trim())\n",
    "\n",
    "            while (matcher.find()) {\n",
    "                val quantity = matcher.group(1).toInt()\n",
    "                val color = matcher.group(2)\n",
    "\n",
    "                when (color) {\n",
    "                    \"red\" -> if (quantity > 12) isPossible = false\n",
    "                    \"green\" -> if(quantity > 13) isPossible = false\n",
    "                    \"blue\" -> if (quantity > 14) isPossible = false\n",
    "                }\n",
    "            }\n",
    "        }\n",
    "    }\n",
    "    \n",
    "    if (isPossible) {\n",
    "        result.add(gameNumber)\n",
    "    }\n",
    "}\n",
    "\n",
    "result.sum()"
   ],
   "metadata": {
    "collapsed": false,
    "ExecuteTime": {
     "end_time": "2023-12-03T16:29:42.263867Z",
     "start_time": "2023-12-03T16:29:42.199153Z"
    }
   }
  },
  {
   "cell_type": "markdown",
   "source": [],
   "metadata": {
    "collapsed": false
   }
  },
  {
   "cell_type": "code",
   "execution_count": 56,
   "outputs": [
    {
     "data": {
      "text/plain": "75561"
     },
     "execution_count": 56,
     "metadata": {},
     "output_type": "execute_result"
    }
   ],
   "source": [
    "import java.io.File\n",
    "import java.util.regex.Pattern\n",
    "\n",
    "val result: MutableList<Int> = mutableListOf()\n",
    "\n",
    "File(\"dayTwo.txt\").forEachLine { line: String ->\n",
    "\n",
    "    var minOfRed = 0\n",
    "    var minOfBlue = 0\n",
    "    var minOfGreen = 0\n",
    "\n",
    "    val split: List<String> = line.split(\":\")\n",
    "    val games = split[1].split(\";\")\n",
    "\n",
    "\n",
    "    for (game in games) {\n",
    "        val cubes = game.split(\",\")\n",
    "        for (cube in cubes) {\n",
    "            val pattern = Pattern.compile(\"(\\\\d+)\\\\s(\\\\w+)\")\n",
    "            val matcher = pattern.matcher(cube.trim())\n",
    "\n",
    "            while (matcher.find()) {\n",
    "                val quantity = matcher.group(1).toInt()\n",
    "                val color = matcher.group(2)\n",
    "\n",
    "                when (color) {\n",
    "                    \"red\" -> if (quantity > minOfRed) minOfRed = quantity\n",
    "                    \"green\" -> if (quantity > minOfGreen) minOfGreen = quantity\n",
    "                    \"blue\" -> if (quantity > minOfBlue) minOfBlue = quantity\n",
    "                }\n",
    "            }\n",
    "        }\n",
    "    }\n",
    "    \n",
    "    val total = minOfBlue * minOfRed * minOfGreen\n",
    "    result.add(total)\n",
    "}\n",
    "\n",
    "result.sum()"
   ],
   "metadata": {
    "collapsed": false,
    "ExecuteTime": {
     "end_time": "2023-12-03T16:29:42.324766Z",
     "start_time": "2023-12-03T16:29:42.264377Z"
    }
   }
  },
  {
   "cell_type": "code",
   "execution_count": 57,
   "outputs": [
    {
     "data": {
      "text/plain": "539590"
     },
     "execution_count": 57,
     "metadata": {},
     "output_type": "execute_result"
    }
   ],
   "source": [
    "val multipleArray: MutableList<CharArray> = mutableListOf()\n",
    "val indexSet: MutableSet<Pair<Int, IntRange>> = mutableSetOf()\n",
    "\n",
    "val lines = File(\"dayThree.txt\").readLines()\n",
    "\n",
    "for (i in 0 until lines.size) {\n",
    "    val chars = lines.get(i).toCharArray()\n",
    "    multipleArray.add(i, chars)\n",
    "}\n",
    "\n",
    "for (i in 0 until multipleArray.size) {\n",
    "    val regex = Regex(\"[^.\\\\d]+\")\n",
    "\n",
    "    for (j in 0 until multipleArray.get(i).size) {\n",
    "        val currentCharacter: Char = multipleArray.get(i).get(j)\n",
    "        val matches = regex.matches(currentCharacter.toString())\n",
    "\n",
    "        if (matches) {\n",
    "            mutableListOf<Pair<Int, Int>>(\n",
    "                i - 1 to j - 1,\n",
    "                i - 1 to j,\n",
    "                i - 1 to j + 1,\n",
    "                i to j - 1,\n",
    "                i to j,\n",
    "                i to j + 1,\n",
    "                i + 1 to j - 1,\n",
    "                i + 1 to j,\n",
    "                i + 1 to j + 1,\n",
    "            ).filter { pair ->\n",
    "                pair.first in 0 until multipleArray.size && pair.second in 0 until multipleArray[pair.first].size\n",
    "            }.filter { pair ->\n",
    "                multipleArray.get(pair.first).get(pair.second).isDigit()\n",
    "            }.forEach { pair ->\n",
    "                val numberIndices =\n",
    "                    getNumberIndices(multipleArray.get(pair.first).concatToString(), pair.second, pair.first)\n",
    "                indexSet.add(numberIndices)\n",
    "            }\n",
    "        }\n",
    "    }\n",
    "}\n",
    "\n",
    "\n",
    "fun getNumberIndices(line: String, xIndex: Int, yIndex: Int): Pair<Int, IntRange> {\n",
    "    var startIndex = xIndex\n",
    "    while (startIndex > 0 && line[startIndex - 1].isDigit()) {\n",
    "        startIndex--\n",
    "    }\n",
    "\n",
    "    var endIndex = xIndex\n",
    "    while (endIndex < line.length - 1 && line[endIndex + 1].isDigit()) {\n",
    "        endIndex++\n",
    "    }\n",
    "\n",
    "    return yIndex to IntRange(startIndex, endIndex)\n",
    "}\n",
    "\n",
    "\n",
    "indexSet.map { multipleArray.get(it.first).slice(it.second).toCharArray().concatToString().toInt() }.sum()"
   ],
   "metadata": {
    "collapsed": false,
    "ExecuteTime": {
     "end_time": "2023-12-03T16:29:42.455858Z",
     "start_time": "2023-12-03T16:29:42.324013Z"
    }
   }
  },
  {
   "cell_type": "code",
   "execution_count": 58,
   "outputs": [
    {
     "data": {
      "text/plain": "80703636"
     },
     "execution_count": 58,
     "metadata": {},
     "output_type": "execute_result"
    }
   ],
   "source": [
    "val multipleArray: MutableList<CharArray> = mutableListOf()\n",
    "var sum = 0\n",
    "\n",
    "val lines = File(\"dayThree.txt\").readLines()\n",
    "\n",
    "for (i in 0 until lines.size) {\n",
    "    val chars = lines.get(i).toCharArray()\n",
    "    multipleArray.add(i, chars)\n",
    "}\n",
    "\n",
    "for (i in 0 until multipleArray.size) {\n",
    "    for (j in 0 until multipleArray.get(i).size) {\n",
    "        val indexSet: MutableSet<Pair<Int, IntRange>> = mutableSetOf()\n",
    "        val currentCharacter: Char = multipleArray.get(i).get(j)\n",
    "        val matches = currentCharacter.equals('*')\n",
    "\n",
    "        if (matches) {\n",
    "            mutableListOf<Pair<Int, Int>>(\n",
    "                i - 1 to j - 1,\n",
    "                i - 1 to j,\n",
    "                i - 1 to j + 1,\n",
    "                i to j - 1,\n",
    "                i to j,\n",
    "                i to j + 1,\n",
    "                i + 1 to j - 1,\n",
    "                i + 1 to j,\n",
    "                i + 1 to j + 1,\n",
    "            ).filter { pair ->\n",
    "                pair.first in 0 until multipleArray.size && pair.second in 0 until multipleArray[pair.first].size\n",
    "            }.filter { pair ->\n",
    "                multipleArray.get(pair.first).get(pair.second).isDigit()\n",
    "            }.forEach { pair ->\n",
    "                val numberIndices =\n",
    "                    getNumberIndices(multipleArray.get(pair.first).concatToString(), pair.second, pair.first)\n",
    "                indexSet.add(numberIndices)\n",
    "            }\n",
    "        }\n",
    "        if (indexSet.size == 2) {\n",
    "            val gearRatio =\n",
    "                indexSet.map { multipleArray.get(it.first).slice(it.second).toCharArray().concatToString().toInt() }\n",
    "                    .fold(1) { acc, value -> acc * value }\n",
    "            sum += gearRatio\n",
    "        }\n",
    "    }\n",
    "}\n",
    "\n",
    "sum"
   ],
   "metadata": {
    "collapsed": false,
    "ExecuteTime": {
     "end_time": "2023-12-03T16:29:42.570619Z",
     "start_time": "2023-12-03T16:29:42.454685Z"
    }
   }
  },
  {
   "cell_type": "code",
   "execution_count": 59,
   "outputs": [],
   "source": [],
   "metadata": {
    "collapsed": false,
    "ExecuteTime": {
     "end_time": "2023-12-03T16:29:42.571303Z",
     "start_time": "2023-12-03T16:29:42.567701Z"
    }
   }
  }
 ],
 "metadata": {
  "kernelspec": {
   "display_name": "Kotlin",
   "language": "kotlin",
   "name": "kotlin"
  },
  "language_info": {
   "name": "kotlin",
   "version": "1.9.0",
   "mimetype": "text/x-kotlin",
   "file_extension": ".kt",
   "pygments_lexer": "kotlin",
   "codemirror_mode": "text/x-kotlin",
   "nbconvert_exporter": ""
  }
 },
 "nbformat": 4,
 "nbformat_minor": 0
}
