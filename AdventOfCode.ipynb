{
 "cells": [
  {
   "cell_type": "code",
   "execution_count": 6,
   "metadata": {
    "collapsed": true,
    "ExecuteTime": {
     "end_time": "2023-12-02T18:04:02.459895Z",
     "start_time": "2023-12-02T18:04:02.334553Z"
    }
   },
   "outputs": [
    {
     "data": {
      "text/plain": "54573"
     },
     "execution_count": 6,
     "metadata": {},
     "output_type": "execute_result"
    }
   ],
   "source": [
    "var sum = 0\n",
    "\n",
    "File(\"dayOne.txt\").forEachLine { line: String ->\n",
    "    var firstChar: Char = '0'\n",
    "    var lastChar: Char = '0'\n",
    "\n",
    "    var chars = line.toCharArray().toList()\n",
    "\n",
    "    for (char in chars) {\n",
    "        if (char.isDigit()) {\n",
    "            firstChar = char\n",
    "            break;\n",
    "        }\n",
    "    }\n",
    "\n",
    "    chars = chars.reversed()\n",
    "\n",
    "    for (char in chars) {\n",
    "        if (char.isDigit()) {\n",
    "            lastChar = char\n",
    "            break;\n",
    "        }\n",
    "    }\n",
    "\n",
    "    val result = firstChar.plus(lastChar.toString()).toInt()\n",
    "    sum += result\n",
    "}\n",
    "\n",
    "sum"
   ]
  },
  {
   "cell_type": "code",
   "execution_count": 14,
   "outputs": [
    {
     "data": {
      "text/plain": "54591"
     },
     "execution_count": 14,
     "metadata": {},
     "output_type": "execute_result"
    }
   ],
   "source": [
    "var sum = 0\n",
    "\n",
    "File(\"dayOne.txt\").forEachLine { line: String ->\n",
    "    var firstChar: Char = '0'\n",
    "    var lastChar: Char = '0'\n",
    "\n",
    "    var newLine: String = line\n",
    "\n",
    "    mapOf(\n",
    "        \"one\" to \"one1one\",\n",
    "        \"two\" to \"two2two\",\n",
    "        \"three\" to \"three3three\",\n",
    "        \"four\" to \"fou4four\",\n",
    "        \"five\" to \"five5five\",\n",
    "        \"six\" to \"six6six\",\n",
    "        \"seven\" to \"seven7sevenn\",\n",
    "        \"eight\" to \"eight8eight\",\n",
    "        \"nine\" to \"nine9nine\"\n",
    "    ).forEach { entry ->\n",
    "        newLine = newLine.replace(entry.key, entry.value)\n",
    "    }\n",
    "\n",
    "    var chars = newLine.toCharArray().toList()\n",
    "\n",
    "    for (char in chars) {\n",
    "        if (char.isDigit()) {\n",
    "            firstChar = char\n",
    "            break;\n",
    "        }\n",
    "    }\n",
    "\n",
    "    chars = chars.reversed()\n",
    "\n",
    "    for (char in chars) {\n",
    "        if (char.isDigit()) {\n",
    "            lastChar = char\n",
    "            break;\n",
    "        }\n",
    "    }\n",
    "\n",
    "    val result = firstChar.plus(lastChar.toString()).toInt()\n",
    "    sum += result\n",
    "}\n",
    "\n",
    "sum"
   ],
   "metadata": {
    "collapsed": false,
    "ExecuteTime": {
     "end_time": "2023-12-02T18:32:13.818930Z",
     "start_time": "2023-12-02T18:32:13.622294Z"
    }
   }
  },
  {
   "cell_type": "code",
   "execution_count": null,
   "outputs": [],
   "source": [],
   "metadata": {
    "collapsed": false
   }
  }
 ],
 "metadata": {
  "kernelspec": {
   "display_name": "Kotlin",
   "language": "kotlin",
   "name": "kotlin"
  },
  "language_info": {
   "name": "kotlin",
   "version": "1.9.0",
   "mimetype": "text/x-kotlin",
   "file_extension": ".kt",
   "pygments_lexer": "kotlin",
   "codemirror_mode": "text/x-kotlin",
   "nbconvert_exporter": ""
  }
 },
 "nbformat": 4,
 "nbformat_minor": 0
}
