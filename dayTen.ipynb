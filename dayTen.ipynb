{
 "cells": [
  {
   "cell_type": "code",
   "execution_count": 150,
   "outputs": [
    {
     "data": {
      "text/plain": "6649"
     },
     "execution_count": 150,
     "metadata": {},
     "output_type": "execute_result"
    }
   ],
   "source": [
    "val grid = File(\"input.txt\").readLines().map { \n",
    "    it.trim().toCharArray()\n",
    " }\n",
    "\n",
    "var sr = -1\n",
    "var sc = -1\n",
    "\n",
    "outerloop@ for ((r, row) in grid.withIndex()) {\n",
    "    for ((c, ch) in row.withIndex()) {\n",
    "        if (ch == 'S') {\n",
    "            sr = r\n",
    "            sc = c\n",
    "            break@outerloop\n",
    "        }\n",
    "    }\n",
    "}\n",
    "\n",
    "val seen = mutableSetOf<Pair<Int, Int>>()\n",
    "val queue = ArrayDeque<Pair<Int, Int>>()\n",
    "queue.add(Pair(sr, sc))\n",
    "\n",
    "while (queue.isNotEmpty()) {\n",
    "    val (r, c) = queue.removeFirst()\n",
    "    val ch = grid[r][c]\n",
    "\n",
    "    if (r > 0 && ch in \"S|JL\" && grid[r - 1][c] in \"|7F\" && Pair(r - 1, c) !in seen) {\n",
    "        seen.add(Pair(r - 1, c))\n",
    "        queue.add(Pair(r - 1, c))\n",
    "    }\n",
    "\n",
    "    if (r < grid.size - 1 && ch in \"S|7F\" && grid[r + 1][c] in \"|JL\" && Pair(r + 1, c) !in seen) {\n",
    "        seen.add(Pair(r + 1, c))\n",
    "        queue.add(Pair(r + 1, c))\n",
    "    }\n",
    "\n",
    "    if (c > 0 && ch in \"S-J7\" && grid[r][c - 1] in \"-LF\" && Pair(r, c - 1) !in seen) {\n",
    "        seen.add(Pair(r, c - 1))\n",
    "        queue.add(Pair(r, c - 1))\n",
    "    }\n",
    "\n",
    "    if (c < grid[r].size - 1 && ch in \"S-LF\" && grid[r][c + 1] in \"-J7\" && Pair(r, c + 1) !in seen) {\n",
    "        seen.add(Pair(r, c + 1))\n",
    "        queue.add(Pair(r, c + 1))\n",
    "    }\n",
    "}\n",
    "\n",
    "seen.size / 2 + 1"
   ],
   "metadata": {
    "collapsed": false,
    "ExecuteTime": {
     "end_time": "2023-12-10T20:29:38.883074Z",
     "start_time": "2023-12-10T20:29:38.676120Z"
    }
   }
  },
  {
   "cell_type": "code",
   "execution_count": 151,
   "outputs": [
    {
     "data": {
      "text/plain": "601"
     },
     "execution_count": 151,
     "metadata": {},
     "output_type": "execute_result"
    }
   ],
   "source": [
    "var grid = File(\"input.txt\").readLines().map {\n",
    "    it.trim().toCharArray()\n",
    "}\n",
    "\n",
    "var sr = -1\n",
    "var sc = -1\n",
    "\n",
    "outerloop@ for ((r, row) in grid.withIndex()) {\n",
    "    for ((c, ch) in row.withIndex()) {\n",
    "        if (ch == 'S') {\n",
    "            sr = r\n",
    "            sc = c\n",
    "            break@outerloop\n",
    "        }\n",
    "    }\n",
    "}\n",
    "\n",
    "val seen = mutableSetOf(Pair(sr, sc))\n",
    "val queue = ArrayDeque<Pair<Int, Int>>()\n",
    "queue.add(Pair(sr, sc))\n",
    "\n",
    "val pot_s = mutableSetOf('|', '-', 'J', 'L', '7', 'F')\n",
    "\n",
    "while (queue.isNotEmpty()) {\n",
    "    val (r, c) = queue.removeFirst()\n",
    "    val ch = grid[r][c]\n",
    "\n",
    "    if (r > 0 && ch in \"S|JL\" && grid[r - 1][c] in \"|7F\" && Pair(r - 1, c) !in seen) {\n",
    "        seen.add(Pair(r - 1, c))\n",
    "        queue.add(Pair(r - 1, c))\n",
    "        if (ch == 'S') {\n",
    "            pot_s.retainAll(setOf('|', 'J', 'L'))\n",
    "        }\n",
    "    }\n",
    "\n",
    "    if (r < grid.size - 1 && ch in \"S|7F\" && grid[r + 1][c] in \"|JL\" && Pair(r + 1, c) !in seen) {\n",
    "        seen.add(Pair(r + 1, c))\n",
    "        queue.add(Pair(r + 1, c))\n",
    "        if (ch == 'S') {\n",
    "            pot_s.retainAll(setOf('|', '7', 'F'))\n",
    "        }\n",
    "    }\n",
    "\n",
    "    if (c > 0 && ch in \"S-J7\" && grid[r][c - 1] in \"-LF\" && Pair(r, c - 1) !in seen) {\n",
    "        seen.add(Pair(r, c - 1))\n",
    "        queue.add(Pair(r, c - 1))\n",
    "        if (ch == 'S') {\n",
    "            pot_s.retainAll(setOf('-', 'J', '7'))\n",
    "        }\n",
    "    }\n",
    "\n",
    "    if (c < grid[r].size - 1 && ch in \"S-LF\" && grid[r][c + 1] in \"-J7\" && Pair(r, c + 1) !in seen) {\n",
    "        seen.add(Pair(r, c + 1))\n",
    "        queue.add(Pair(r, c + 1))\n",
    "        if (ch == 'S') {\n",
    "            pot_s.retainAll(setOf('-', 'L', 'F'))\n",
    "        }\n",
    "    }\n",
    "}\n",
    "\n",
    "val s = pot_s.first()\n",
    "\n",
    "grid = grid.map { row -> row.concatToString().replace('S', s).toCharArray() }\n",
    "grid = grid.mapIndexed { r, row ->\n",
    "    row.mapIndexed { c, ch ->\n",
    "        if (Pair(r, c) in seen) ch.toString() else \".\"\n",
    "    }.joinToString(\"\").toCharArray()\n",
    "}\n",
    "\n",
    "val outside = mutableSetOf<Pair<Int, Int>>()\n",
    "\n",
    "for ((r, row) in grid.withIndex()) {\n",
    "    var within = false\n",
    "    var up: Boolean? = null\n",
    "\n",
    "    for ((c, ch) in row.withIndex()) {\n",
    "        when (ch) {\n",
    "            '|' -> {\n",
    "                within = !within\n",
    "            }\n",
    "            in \"LF\" -> {\n",
    "                up = ch == 'L'\n",
    "            }\n",
    "\n",
    "            in \"7J\" -> {\n",
    "                if (ch != if (up == true) 'J' else '7') {\n",
    "                    within = !within\n",
    "                }\n",
    "                up = null\n",
    "            }\n",
    "        }\n",
    "        if (!within) {\n",
    "            outside.add(Pair(r, c))\n",
    "        }\n",
    "    }\n",
    "}\n",
    "\n",
    "val gridSize = grid.size * grid[0].size\n",
    "gridSize - (outside union seen).size"
   ],
   "metadata": {
    "collapsed": false,
    "ExecuteTime": {
     "end_time": "2023-12-10T20:29:39.127990Z",
     "start_time": "2023-12-10T20:29:38.881313Z"
    }
   }
  },
  {
   "cell_type": "code",
   "execution_count": 152,
   "outputs": [],
   "source": [
    "    "
   ],
   "metadata": {
    "collapsed": false,
    "ExecuteTime": {
     "end_time": "2023-12-10T20:29:39.129198Z",
     "start_time": "2023-12-10T20:29:39.127074Z"
    }
   }
  }
 ],
 "metadata": {
  "kernelspec": {
   "display_name": "Kotlin",
   "language": "kotlin",
   "name": "kotlin"
  },
  "language_info": {
   "name": "kotlin",
   "version": "1.9.0",
   "mimetype": "text/x-kotlin",
   "file_extension": ".kt",
   "pygments_lexer": "kotlin",
   "codemirror_mode": "text/x-kotlin",
   "nbconvert_exporter": ""
  }
 },
 "nbformat": 4,
 "nbformat_minor": 0
}
