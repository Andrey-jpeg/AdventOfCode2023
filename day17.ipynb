{
 "cells": [
  {
   "cell_type": "markdown",
   "source": [
    "## Pt 1"
   ],
   "metadata": {
    "collapsed": false
   }
  },
  {
   "cell_type": "code",
   "execution_count": 22,
   "outputs": [
    {
     "name": "stdout",
     "output_type": "stream",
     "text": [
      "1246\n"
     ]
    }
   ],
   "source": [
    "operator fun List<Int>.component6() = this[5]\n",
    "\n",
    "val grid = File(\"input.txt\").readLines().map { it.map { c: Char -> c.digitToInt() } }\n",
    "\n",
    "val seen = mutableSetOf<List<Int>>()\n",
    "val pq = PriorityQueue<List<Int>>(compareBy { it[0] })\n",
    "pq.offer(listOf(0, 0, 0, 0, 0, 0))\n",
    "\n",
    "while (pq.isNotEmpty()) {\n",
    "    val (hl, r, c, dr, dc, n) = pq.poll()\n",
    "\n",
    "    if (r == grid.size - 1 && c == grid[0].size - 1) {\n",
    "        println(hl)\n",
    "        break\n",
    "    }\n",
    "\n",
    "    if (listOf(r, c, dr, dc, n) in seen) {\n",
    "        continue\n",
    "    }\n",
    "\n",
    "    seen.add(listOf(r, c, dr, dc, n))\n",
    "\n",
    "    if (n < 3 && (dr != 0 || dc != 0)) {\n",
    "        val nr = r + dr\n",
    "        val nc = c + dc\n",
    "        if (nr in grid.indices && nc in grid[0].indices) {\n",
    "            pq.offer(listOf(hl + grid[nr][nc], nr, nc, dr, dc, n + 1))\n",
    "        }\n",
    "    }\n",
    "\n",
    "    val directions = listOf(0 to 1, 1 to 0, 0 to -1, -1 to 0)\n",
    "    for ((ndr, ndc) in directions) {\n",
    "        if ((ndr != dr || ndc != dc) && (ndr != -dr || ndc != -dc)) {\n",
    "            val nr = r + ndr\n",
    "            val nc = c + ndc\n",
    "            if (nr in grid.indices && nc in grid[0].indices) {\n",
    "                pq.offer(listOf(hl + grid[nr][nc], nr, nc, ndr, ndc, 1))\n",
    "            }\n",
    "        }\n",
    "    }\n",
    "}"
   ],
   "metadata": {
    "collapsed": true,
    "ExecuteTime": {
     "end_time": "2023-12-19T15:13:31.282642Z",
     "start_time": "2023-12-19T15:13:30.457149Z"
    }
   }
  },
  {
   "cell_type": "markdown",
   "source": [
    "## Pt 2"
   ],
   "metadata": {
    "collapsed": false
   }
  },
  {
   "cell_type": "code",
   "execution_count": 23,
   "outputs": [
    {
     "name": "stdout",
     "output_type": "stream",
     "text": [
      "1389\n"
     ]
    }
   ],
   "source": [
    "operator fun List<Int>.component6() = this[5]\n",
    "\n",
    "val grid = File(\"input.txt\").readLines().map { it.map { c: Char -> c.digitToInt() } }\n",
    "\n",
    "val seen = mutableSetOf<List<Int>>()\n",
    "val pq = PriorityQueue<List<Int>>(compareBy { it[0] })\n",
    "pq.offer(listOf(0, 0, 0, 0, 0, 0))\n",
    "\n",
    "while (pq.isNotEmpty()) {\n",
    "    val (hl, r, c, dr, dc, n) = pq.poll()\n",
    "\n",
    "    if (r == grid.size - 1 && c == grid[0].size - 1 && n >= 4) {\n",
    "        println(hl)\n",
    "        break\n",
    "    }\n",
    "\n",
    "    if (listOf(r, c, dr, dc, n) in seen) {\n",
    "        continue\n",
    "    }\n",
    "\n",
    "    seen.add(listOf(r, c, dr, dc, n))\n",
    "\n",
    "    if (n < 10 && (dr != 0 || dc != 0)) {\n",
    "        val nr = r + dr\n",
    "        val nc = c + dc\n",
    "        if (nr in grid.indices && nc in grid[0].indices) {\n",
    "            pq.offer(listOf(hl + grid[nr][nc], nr, nc, dr, dc, n + 1))\n",
    "        }\n",
    "    }\n",
    "\n",
    "    if (n >= 4 || (dr == 0 && dc == 0)) {\n",
    "        val directions = listOf(0 to 1, 1 to 0, 0 to -1, -1 to 0)\n",
    "        for ((ndr, ndc) in directions) {\n",
    "            if ((ndr != dr || ndc != dc) && (ndr != -dr || ndc != -dc)) {\n",
    "                val nr = r + ndr\n",
    "                val nc = c + ndc\n",
    "                if (nr in grid.indices && nc in grid[0].indices) {\n",
    "                    pq.offer(listOf(hl + grid[nr][nc], nr, nc, ndr, ndc, 1))\n",
    "                }\n",
    "            }\n",
    "        }\n",
    "    }\n",
    "}"
   ],
   "metadata": {
    "collapsed": false,
    "ExecuteTime": {
     "end_time": "2023-12-19T15:15:29.315937Z",
     "start_time": "2023-12-19T15:15:27.534384Z"
    }
   }
  },
  {
   "cell_type": "code",
   "execution_count": null,
   "outputs": [],
   "source": [],
   "metadata": {
    "collapsed": false
   }
  }
 ],
 "metadata": {
  "kernelspec": {
   "display_name": "Kotlin",
   "language": "kotlin",
   "name": "kotlin"
  },
  "language_info": {
   "name": "kotlin",
   "version": "1.9.0",
   "mimetype": "text/x-kotlin",
   "file_extension": ".kt",
   "pygments_lexer": "kotlin",
   "codemirror_mode": "text/x-kotlin",
   "nbconvert_exporter": ""
  }
 },
 "nbformat": 4,
 "nbformat_minor": 0
}
