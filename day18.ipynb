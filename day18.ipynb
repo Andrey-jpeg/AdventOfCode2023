{
 "cells": [
  {
   "cell_type": "markdown",
   "source": [
    "## Pt 1"
   ],
   "metadata": {
    "collapsed": false
   }
  },
  {
   "cell_type": "code",
   "execution_count": 3,
   "outputs": [
    {
     "data": {
      "text/plain": "62"
     },
     "execution_count": 3,
     "metadata": {},
     "output_type": "execute_result"
    }
   ],
   "source": [
    "import java.io.File\n",
    "\n",
    "val points = mutableListOf(Pair(0, 0))\n",
    "val dirs = mapOf(\"U\" to Pair(-1, 0), \"D\" to Pair(1, 0), \"L\" to Pair(0, -1), \"R\" to Pair(0, 1))\n",
    "\n",
    "val b = File(\"input.txt\").readLines().fold(0) { acc, line ->\n",
    "    val (d, n, _) = line.split(\" \")\n",
    "    val (dr, dc) = dirs[d] ?: Pair(0, 0)\n",
    "    val num = n.toInt()\n",
    "    val (r, c) = points.last()\n",
    "    points.add(Pair(r + dr * num, c + dc * num))\n",
    "    acc + num\n",
    "}\n",
    "\n",
    "val A = points.indices.sumOf { i ->\n",
    "    points[i].first * (points[(i - 1 + points.size) % points.size].second - points[(i + 1) % points.size].second)\n",
    "}.let { Math.abs(it) / 2 }\n",
    "\n",
    "val i = A - b / 2 + 1\n",
    "i + b"
   ],
   "metadata": {
    "collapsed": true,
    "ExecuteTime": {
     "end_time": "2023-12-19T19:41:35.239167Z",
     "start_time": "2023-12-19T19:41:34.943477Z"
    }
   }
  },
  {
   "cell_type": "markdown",
   "source": [
    "## Pt 2"
   ],
   "metadata": {
    "collapsed": false
   }
  },
  {
   "cell_type": "code",
   "execution_count": 20,
   "outputs": [
    {
     "data": {
      "text/plain": "94116351948493"
     },
     "execution_count": 20,
     "metadata": {},
     "output_type": "execute_result"
    }
   ],
   "source": [
    "val points = mutableListOf(Pair(0L, 0L))\n",
    "val dirs = mapOf('U' to Pair(-1L, 0L), 'D' to Pair(1L, 0L), 'L' to Pair(0L, -1L), 'R' to Pair(0L, 1L))\n",
    "\n",
    "val b = File(\"input.txt\").readLines().fold(0) { acc, line ->\n",
    "    var (_, _, x) = line.split(' ')\n",
    "    x = x.substring(2, x.length - 1)\n",
    "    val (dr, dc) = dirs[\"RDLU\"[x.last().digitToInt()]]!!\n",
    "    val n = x.substring(0, x.length - 1).toInt(16)\n",
    "    val (r, c) = points.last()\n",
    "    points.add(Pair(r + dr * n, c + dc * n))\n",
    "    acc + n\n",
    "}\n",
    "\n",
    "val A = points.indices.sumOf { i ->\n",
    "    points[i].first * (points[(i - 1 + points.size) % points.size].second - points[(i + 1) % points.size].second)\n",
    "}.let { Math.abs(it) / 2 }\n",
    "\n",
    "val i = A - b / 2 + 1\n",
    "i + b"
   ],
   "metadata": {
    "collapsed": false,
    "ExecuteTime": {
     "end_time": "2023-12-19T20:06:42.193028Z",
     "start_time": "2023-12-19T20:06:42.077323Z"
    }
   }
  },
  {
   "cell_type": "code",
   "execution_count": null,
   "outputs": [],
   "source": [],
   "metadata": {
    "collapsed": false
   }
  }
 ],
 "metadata": {
  "kernelspec": {
   "display_name": "Kotlin",
   "language": "kotlin",
   "name": "kotlin"
  },
  "language_info": {
   "name": "kotlin",
   "version": "1.9.0",
   "mimetype": "text/x-kotlin",
   "file_extension": ".kt",
   "pygments_lexer": "kotlin",
   "codemirror_mode": "text/x-kotlin",
   "nbconvert_exporter": ""
  }
 },
 "nbformat": 4,
 "nbformat_minor": 0
}
