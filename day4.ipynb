{
 "cells": [
  {
   "cell_type": "code",
   "execution_count": 24,
   "metadata": {
    "collapsed": true,
    "ExecuteTime": {
     "end_time": "2023-12-04T07:37:34.351096Z",
     "start_time": "2023-12-04T07:37:34.222688Z"
    }
   },
   "outputs": [
    {
     "data": {
      "text/plain": "18619"
     },
     "execution_count": 24,
     "metadata": {},
     "output_type": "execute_result"
    }
   ],
   "source": [
    "import java.io.File\n",
    "\n",
    "var sum = 0\n",
    "\n",
    "File(\"dayFour.txt\").forEachLine { line: String ->\n",
    "    val split = line.split(\":\")\n",
    "\n",
    "    // Split the remainder into two lists, one of winning numbers, the second of your numbers\n",
    "    val stringOfNumbers = split[1].split(\"|\")\n",
    "\n",
    "    val regex = Regex(\"\\\\d+\")\n",
    "\n",
    "\n",
    "    val numbers = stringOfNumbers.map {\n",
    "        return@map regex.findAll(it)\n",
    "            .map { it.value.toInt() }\n",
    "            .toList()\n",
    "    }\n",
    "\n",
    "    val winningNumbers = numbers.first().intersect(numbers.last())\n",
    "\n",
    "    sum += 2.0.pow(winningNumbers.size.minus(1).toDouble()).toInt()\n",
    "}\n",
    "\n",
    "sum"
   ]
  },
  {
   "cell_type": "code",
   "execution_count": 41,
   "outputs": [
    {
     "data": {
      "text/plain": "8063216"
     },
     "execution_count": 41,
     "metadata": {},
     "output_type": "execute_result"
    }
   ],
   "source": [
    "val lines = File(\"dayFour.txt\").readLines().toMutableList()\n",
    "val scratchCardSum = mutableMapOf<Int, Int>()\n",
    "val maxIndex = lines.size + 1\n",
    "\n",
    "\n",
    "for ((i, line) in lines.withIndex()) {\n",
    "    val split = line.split(\":\")\n",
    "    val stringOfNumbers = split[1].split(\"|\")\n",
    "\n",
    "    val regex = Regex(\"\\\\d+\")\n",
    "    val numbers = stringOfNumbers.map {\n",
    "        return@map regex.findAll(it)\n",
    "            .map { it.value.toInt() }\n",
    "            .toList()\n",
    "    }\n",
    "\n",
    "    val winningNumbers = numbers.first().intersect(numbers.last())\n",
    "\n",
    "    val index = i + 1\n",
    "    scratchCardSum[index] = scratchCardSum.getOrDefault(index, 0) + 1\n",
    "    val multiplier = scratchCardSum.getOrDefault(index, 1)\n",
    "    for (nextIndex in 1 until winningNumbers.size + 1) {\n",
    "        val currentIndex = min(index + nextIndex, maxIndex)\n",
    "        scratchCardSum[currentIndex] = scratchCardSum.getOrDefault(currentIndex, 0) + multiplier\n",
    "    }\n",
    "}\n",
    "\n",
    "scratchCardSum.values.sum()"
   ],
   "metadata": {
    "collapsed": false,
    "ExecuteTime": {
     "end_time": "2023-12-04T08:40:40.699225Z",
     "start_time": "2023-12-04T08:40:40.336012Z"
    }
   }
  },
  {
   "cell_type": "code",
   "execution_count": null,
   "outputs": [],
   "source": [],
   "metadata": {
    "collapsed": false
   }
  }
 ],
 "metadata": {
  "kernelspec": {
   "display_name": "Kotlin",
   "language": "kotlin",
   "name": "kotlin"
  },
  "language_info": {
   "name": "kotlin",
   "version": "1.9.0",
   "mimetype": "text/x-kotlin",
   "file_extension": ".kt",
   "pygments_lexer": "kotlin",
   "codemirror_mode": "text/x-kotlin",
   "nbconvert_exporter": ""
  }
 },
 "nbformat": 4,
 "nbformat_minor": 0
}
