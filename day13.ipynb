{
 "cells": [
  {
   "cell_type": "markdown",
   "source": [
    "### Pt 1"
   ],
   "metadata": {
    "collapsed": false
   }
  },
  {
   "cell_type": "code",
   "execution_count": 23,
   "outputs": [
    {
     "data": {
      "text/plain": "37718"
     },
     "execution_count": 23,
     "metadata": {},
     "output_type": "execute_result"
    }
   ],
   "source": [
    "// Extension function to transpose a grid\n",
    "fun <T> List<List<T>>.transpose(): List<List<T>> {\n",
    "    return if (isEmpty()) emptyList()\n",
    "    else this[0].indices.map { col -> this.map { it[col] } }\n",
    "}\n",
    "\n",
    "fun findMirror(grid: List<List<String>>): Int {\n",
    "    for (r in 1 until grid.size) {\n",
    "        val above = grid.subList(0, r).reversed()\n",
    "        val below = grid.subList(r, grid.size)\n",
    "\n",
    "        val minLength = minOf(above.size, below.size)\n",
    "        val truncatedAbove = above.subList(0, minLength)\n",
    "        val truncatedBelow = below.subList(0, minLength)\n",
    "\n",
    "        if (truncatedAbove == truncatedBelow) {\n",
    "            return r\n",
    "        }\n",
    "    }\n",
    "    return 0\n",
    "}\n",
    "\n",
    "File(\"input.txt\").readText().split(\"\\n\\n\")\n",
    "    .map { mirror -> mirror.trim().split(\"\\n\").map { it.toList().map { it.toString() } } }.fold(0) { acc, grid ->\n",
    "    val row = findMirror(grid)\n",
    "    val col = findMirror(grid.transpose())\n",
    "\n",
    "    acc + (row * 100) + col\n",
    "}"
   ],
   "metadata": {
    "collapsed": false,
    "ExecuteTime": {
     "start_time": "2023-12-14T10:22:18.091324Z"
    }
   }
  },
  {
   "cell_type": "markdown",
   "source": [
    "### Pt 2"
   ],
   "metadata": {
    "collapsed": false
   }
  },
  {
   "cell_type": "code",
   "execution_count": 28,
   "outputs": [
    {
     "data": {
      "text/plain": "40995"
     },
     "execution_count": 28,
     "metadata": {},
     "output_type": "execute_result"
    }
   ],
   "source": [
    "// Extension function to transpose a grid\n",
    "fun <T> List<List<T>>.transpose(): List<List<T>> {\n",
    "    return if (isEmpty()) emptyList()\n",
    "    else this[0].indices.map { col -> this.map { it[col] } }\n",
    "}\n",
    "\n",
    "fun findMirror(grid: List<List<String>>): Int {\n",
    "    for (r in 1 until grid.size) {\n",
    "        val above = grid.subList(0, r).reversed()\n",
    "        val below = grid.subList(r, grid.size)\n",
    "\n",
    "        val countDiff: Int = above.zip(below).fold(0) { total, (x, y) ->\n",
    "            total + x.zip(y).fold(0) { acc, (a, b) ->\n",
    "                if (a == b) acc + 0 else acc + 1\n",
    "            }\n",
    "        }\n",
    "\n",
    "        if (countDiff == 1) {\n",
    "            return r\n",
    "        }\n",
    "    }\n",
    "    return 0\n",
    "}\n",
    "\n",
    "var total = 0\n",
    "\n",
    "File(\"input.txt\").readText().split(\"\\n\\n\")\n",
    "    .map { mirror -> mirror.trim().split(\"\\n\").map { it.toList().map { it.toString() } } }.fold(0) { acc, grid ->\n",
    "        val row = findMirror(grid)\n",
    "        val col = findMirror(grid.transpose())\n",
    "\n",
    "        acc + (row * 100) + col\n",
    "    }"
   ],
   "metadata": {
    "collapsed": false,
    "ExecuteTime": {
     "end_time": "2023-12-14T10:42:53.504657Z",
     "start_time": "2023-12-14T10:42:53.338967Z"
    }
   }
  },
  {
   "cell_type": "code",
   "execution_count": null,
   "outputs": [],
   "source": [],
   "metadata": {
    "collapsed": false
   }
  }
 ],
 "metadata": {
  "kernelspec": {
   "display_name": "Kotlin",
   "language": "kotlin",
   "name": "kotlin"
  },
  "language_info": {
   "name": "kotlin",
   "version": "1.9.0",
   "mimetype": "text/x-kotlin",
   "file_extension": ".kt",
   "pygments_lexer": "kotlin",
   "codemirror_mode": "text/x-kotlin",
   "nbconvert_exporter": ""
  }
 },
 "nbformat": 4,
 "nbformat_minor": 0
}
