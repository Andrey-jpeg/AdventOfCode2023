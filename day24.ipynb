{
 "cells": [
  {
   "cell_type": "code",
   "outputs": [],
   "source": [
    "USE {\n",
    "  dependencies {\n",
    "    implementation(\"io.github.p-org.solvers:z3:4.8.14-v5\")\n",
    "  }\n",
    "}"
   ],
   "metadata": {
    "collapsed": false
   },
   "execution_count": null
  },
  {
   "cell_type": "code",
   "outputs": [],
   "source": [
    "import java.io.File\n",
    "\n",
    "data class Hailstone(\n",
    "    val sx: Long,\n",
    "    val sy: Long,\n",
    "    val sz: Long,\n",
    "    val vx: Long,\n",
    "    val vy: Long,\n",
    "    val vz: Long,\n",
    "    val a: Long,\n",
    "    val b: Long,\n",
    "    val c: Long\n",
    ") {\n",
    "    constructor(\n",
    "        sx: Long,\n",
    "        sy: Long,\n",
    "        sz: Long,\n",
    "        vx: Long,\n",
    "        vy: Long,\n",
    "        vz: Long,\n",
    "    ) : this(\n",
    "        sx, sy, sz, vx, vy, vz, vy, -vx, (vy * sx) - (vx * sy)\n",
    "    )\n",
    "}\n",
    "\n",
    "val hailstones = File(\"input.txt\").readLines().map { line ->\n",
    "    val values = line.replace(\"@\", \",\").split(\",\").map { it.trim(' ').toLong() }\n",
    "    Hailstone(values[0], values[1], values[2], values[3], values[4], values[5])\n",
    "}\n",
    "\n",
    "\n",
    "hailstones.foldIndexed(0) { i, acc, hs1 ->\n",
    "    acc + hailstones.subList(0, i).fold(0) { innerAcc, hs2 ->\n",
    "        val a1 = hs1.a\n",
    "        val b1 = hs1.b\n",
    "        val c1 = hs1.c\n",
    "        val a2 = hs2.a\n",
    "        val b2 = hs2.b\n",
    "        val c2 = hs2.c\n",
    "\n",
    "        if (a1 * b2 == b1 * a2) return@fold innerAcc\n",
    "\n",
    "        val x = (c1.toDouble() * b2 - c2.toDouble() * b1) / (a1.toDouble() * b2 - a2.toDouble() * b1)\n",
    "        val y = (c2.toDouble() * a1 - c1.toDouble() * a2) / (a1.toDouble() * b2 - a2.toDouble() * b1)\n",
    "\n",
    "        val xRange = 200000000000000.0..400000000000000.0\n",
    "        val yRange = 200000000000000.0..400000000000000.0\n",
    "\n",
    "\n",
    "        if (x in xRange && y in yRange && listOf(hs1, hs2)\n",
    "                .all { (x - it.sx) * it.vx >= 0 && (y - it.sy) * it.vy >= 0 }\n",
    "        ) {\n",
    "            return@fold innerAcc + 1\n",
    "        }\n",
    "        innerAcc\n",
    "    }\n",
    "}"
   ],
   "metadata": {
    "collapsed": true
   },
   "execution_count": null
  },
  {
   "cell_type": "code",
   "outputs": [],
   "source": [
    "import com.microsoft.z3.*\n",
    "\n",
    "operator fun <T> List<T>.component6(): T = get(5)\n",
    "\n",
    "data class Point3D(val x: Double, val y: Double, val z: Double)\n",
    "data class Velocity3D(val x: Double, val y: Double, val z: Double)\n",
    "data class Hail(val p: Point3D, val v: Velocity3D) {\n",
    "    fun slope() = v.y / v.x\n",
    "}\n",
    "\n",
    "val hail = File(\"input.txt\").readLines().map {\n",
    "    it.split(\" @ \").let {\n",
    "        Hail(it[0].split(\", \").map { it.trim().toDouble() }.let { (x, y, z) -> Point3D(x, y, z) },\n",
    "            it[1].split(\", \").map { it.trim().toDouble() }.let { (x, y, z) -> Velocity3D(x, y, z) })\n",
    "    }\n",
    "}\n",
    "val ctx = Context() // if using proof = true, Real errors\n",
    "val solver = ctx.mkSolver()\n",
    "\n",
    "val (x, y, z, vx, vy, vz) = listOf(\"x\", \"y\", \"z\", \"vx\", \"vy\", \"vz\").map { ctx.mkRealConst(it) }\n",
    "(0..2).forEach { idx ->\n",
    "    val h = hail[idx]\n",
    "    val t = ctx.mkRealConst(\"t$idx\")\n",
    "    solver.add(\n",
    "        ctx.mkEq(\n",
    "            ctx.mkAdd(x, ctx.mkMul(vx, t)),\n",
    "            ctx.mkAdd(ctx.mkReal(h.p.x.toLong()), ctx.mkMul(ctx.mkReal(h.v.x.toLong()), t))\n",
    "        )\n",
    "    )\n",
    "    solver.add(\n",
    "        ctx.mkEq(\n",
    "            ctx.mkAdd(y, ctx.mkMul(vy, t)),\n",
    "            ctx.mkAdd(ctx.mkReal(h.p.y.toLong()), ctx.mkMul(ctx.mkReal(h.v.y.toLong()), t))\n",
    "        )\n",
    "    )\n",
    "    solver.add(\n",
    "        ctx.mkEq(\n",
    "            ctx.mkAdd(z, ctx.mkMul(vz, t)),\n",
    "            ctx.mkAdd(ctx.mkReal(h.p.z.toLong()), ctx.mkMul(ctx.mkReal(h.v.z.toLong()), t))\n",
    "        )\n",
    "    )\n",
    "}\n",
    "if (solver.check() == Status.SATISFIABLE) {\n",
    "    println(solver.model.eval(ctx.mkAdd(x, ctx.mkAdd(y, z)), false))\n",
    "}"
   ],
   "metadata": {
    "collapsed": false
   },
   "execution_count": null
  },
  {
   "cell_type": "raw",
   "source": [],
   "metadata": {
    "collapsed": false
   }
  }
 ],
 "metadata": {
  "kernelspec": {
   "display_name": "Kotlin",
   "language": "kotlin",
   "name": "kotlin"
  },
  "language_info": {
   "name": "kotlin",
   "version": "1.9.0",
   "mimetype": "text/x-kotlin",
   "file_extension": ".kt",
   "pygments_lexer": "kotlin",
   "codemirror_mode": "text/x-kotlin",
   "nbconvert_exporter": ""
  }
 },
 "nbformat": 4,
 "nbformat_minor": 0
}
