{
 "cells": [
  {
   "cell_type": "code",
   "outputs": [],
   "source": [
    "USE {\n",
    "  dependencies {\n",
    "    implementation(\"io.github.p-org.solvers:z3:4.8.14-v5\")\n",
    "  }\n",
    "}"
   ],
   "metadata": {
    "collapsed": false,
    "ExecuteTime": {
     "end_time": "2023-12-26T14:40:13.432845Z",
     "start_time": "2023-12-26T14:40:13.111286Z"
    }
   },
   "execution_count": 1
  },
  {
   "cell_type": "code",
   "outputs": [
    {
     "data": {
      "text/plain": "25433"
     },
     "execution_count": 2,
     "metadata": {},
     "output_type": "execute_result"
    }
   ],
   "source": [
    "import java.io.File\n",
    "\n",
    "data class Hailstone(\n",
    "    val sx: Long,\n",
    "    val sy: Long,\n",
    "    val sz: Long,\n",
    "    val vx: Long,\n",
    "    val vy: Long,\n",
    "    val vz: Long,\n",
    "    val a: Long,\n",
    "    val b: Long,\n",
    "    val c: Long\n",
    ") {\n",
    "    constructor(\n",
    "        sx: Long,\n",
    "        sy: Long,\n",
    "        sz: Long,\n",
    "        vx: Long,\n",
    "        vy: Long,\n",
    "        vz: Long,\n",
    "    ) : this(\n",
    "        sx, sy, sz, vx, vy, vz, vy, -vx, (vy * sx) - (vx * sy)\n",
    "    )\n",
    "}\n",
    "\n",
    "val hailstones = File(\"input.txt\").readLines().map { line ->\n",
    "    val values = line.replace(\"@\", \",\").split(\",\").map { it.trim(' ').toLong() }\n",
    "    Hailstone(values[0], values[1], values[2], values[3], values[4], values[5])\n",
    "}\n",
    "\n",
    "\n",
    "hailstones.foldIndexed(0) { i, acc, hs1 ->\n",
    "    acc + hailstones.subList(0, i).fold(0) { innerAcc, hs2 ->\n",
    "        val a1 = hs1.a\n",
    "        val b1 = hs1.b\n",
    "        val c1 = hs1.c\n",
    "        val a2 = hs2.a\n",
    "        val b2 = hs2.b\n",
    "        val c2 = hs2.c\n",
    "\n",
    "        if (a1 * b2 == b1 * a2) return@fold innerAcc\n",
    "\n",
    "        val x = (c1.toDouble() * b2 - c2.toDouble() * b1) / (a1.toDouble() * b2 - a2.toDouble() * b1)\n",
    "        val y = (c2.toDouble() * a1 - c1.toDouble() * a2) / (a1.toDouble() * b2 - a2.toDouble() * b1)\n",
    "\n",
    "        val xRange = 200000000000000.0..400000000000000.0\n",
    "        val yRange = 200000000000000.0..400000000000000.0\n",
    "\n",
    "\n",
    "        if (x in xRange && y in yRange && listOf(hs1, hs2)\n",
    "                .all { (x - it.sx) * it.vx >= 0 && (y - it.sy) * it.vy >= 0 }\n",
    "        ) {\n",
    "            return@fold innerAcc + 1\n",
    "        }\n",
    "        innerAcc\n",
    "    }\n",
    "}"
   ],
   "metadata": {
    "collapsed": true,
    "ExecuteTime": {
     "end_time": "2023-12-26T14:40:14.273663Z",
     "start_time": "2023-12-26T14:40:13.433234Z"
    }
   },
   "execution_count": 2
  },
  {
   "cell_type": "markdown",
   "source": [
    "## Pt 2 - using microsoft Z3 with java bindings to solve.\n",
    "On Mac OS I had to use this [solution](https://github.com/Z3Prover/z3/issues/4979#issuecomment-773650678) to get it working.\n",
    "Added following arguments to JVM -Djava.library.path=\"path/to/z3/bin\"\n"
   ],
   "metadata": {
    "collapsed": false
   }
  },
  {
   "cell_type": "code",
   "outputs": [
    {
     "data": {
      "text/plain": "885093461440405"
     },
     "execution_count": 9,
     "metadata": {},
     "output_type": "execute_result"
    }
   ],
   "source": [
    "operator fun <T> List<T>.component6(): T = get(5)\n",
    "\n",
    "val hailstones = File(\"input.txt\").readLines().map { line ->\n",
    "    val values = line.replace(\"@\", \",\").split(\",\").map { it.trim(' ').toLong() }\n",
    "    Hailstone(values[0], values[1], values[2], values[3], values[4], values[5])\n",
    "}\n",
    "\n",
    "lateinit var result: Expr<RealSort>\n",
    "val ctx = Context()\n",
    "val solver = ctx.mkSolver()\n",
    "\n",
    "val (x, y, z, vx, vy, vz) = listOf(\"x\", \"y\", \"z\", \"vx\", \"vy\", \"vz\").map { ctx.mkRealConst(it) }\n",
    "(0..2).forEach { idx ->\n",
    "    val h = hailstones[idx]\n",
    "    val t = ctx.mkRealConst(\"t$idx\")\n",
    "    solver.add(\n",
    "        ctx.mkEq(\n",
    "            ctx.mkAdd(x, ctx.mkMul(vx, t)),\n",
    "            ctx.mkAdd(ctx.mkReal(h.sx), ctx.mkMul(ctx.mkReal(h.vx), t))\n",
    "        )\n",
    "    )\n",
    "    solver.add(\n",
    "        ctx.mkEq(\n",
    "            ctx.mkAdd(y, ctx.mkMul(vy, t)),\n",
    "            ctx.mkAdd(ctx.mkReal(h.sy), ctx.mkMul(ctx.mkReal(h.vy), t))\n",
    "        )\n",
    "    )\n",
    "    solver.add(\n",
    "        ctx.mkEq(\n",
    "            ctx.mkAdd(z, ctx.mkMul(vz, t)),\n",
    "            ctx.mkAdd(ctx.mkReal(h.sz), ctx.mkMul(ctx.mkReal(h.vz), t))\n",
    "        )\n",
    "    )\n",
    "}\n",
    "\n",
    "if (solver.check() == Status.SATISFIABLE) {\n",
    "    result = solver.model.eval(ctx.mkAdd(x, ctx.mkAdd(y, z)), false)\n",
    "}\n",
    "result"
   ],
   "metadata": {
    "collapsed": false,
    "ExecuteTime": {
     "end_time": "2023-12-26T14:48:45.271578Z",
     "start_time": "2023-12-26T14:48:45.047906Z"
    }
   },
   "execution_count": 9
  },
  {
   "cell_type": "raw",
   "source": [],
   "metadata": {
    "collapsed": false
   }
  }
 ],
 "metadata": {
  "kernelspec": {
   "display_name": "Kotlin",
   "language": "kotlin",
   "name": "kotlin"
  },
  "language_info": {
   "name": "kotlin",
   "version": "1.9.0",
   "mimetype": "text/x-kotlin",
   "file_extension": ".kt",
   "pygments_lexer": "kotlin",
   "codemirror_mode": "text/x-kotlin",
   "nbconvert_exporter": ""
  }
 },
 "nbformat": 4,
 "nbformat_minor": 0
}
