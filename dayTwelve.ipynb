{
 "cells": [
  {
   "cell_type": "markdown",
   "source": [
    "## Pt 1"
   ],
   "metadata": {
    "collapsed": false
   }
  },
  {
   "cell_type": "code",
   "execution_count": 29,
   "outputs": [
    {
     "data": {
      "text/plain": "7236"
     },
     "execution_count": 29,
     "metadata": {},
     "output_type": "execute_result"
    }
   ],
   "source": [
    "val lines = File(\"input.txt\").readLines()\n",
    "\n",
    "val cache = hashMapOf<Pair<String, List<Int>>, Long>()\n",
    "fun count(cfg: String, nums: List<Int>): Long {\n",
    "    if (nums.isEmpty()) return if (\"#\" in cfg) 0 else 1\n",
    "    if (cfg.isEmpty()) return 0\n",
    "\n",
    "    return cache.getOrPut(cfg to nums) {\n",
    "        var result = 0L\n",
    "        if (cfg.first() in \".?\")\n",
    "            result += count(cfg.drop(1), nums)\n",
    "        if (cfg.first() in \"#?\" && nums.first() <= cfg.length && \".\" !in cfg.take(nums.first()) && (nums.first() == cfg.length || cfg[nums.first()] != '#'))\n",
    "            result += count(cfg.drop(nums.first() + 1), nums.drop(1))\n",
    "        result\n",
    "    }\n",
    "}\n",
    "\n",
    "lines.fold(0) { acc: Long, line: String ->\n",
    "    val (cfg, nums) = line.split(\" \")\n",
    "    val numz = nums.split(\",\").map(String::toInt)\n",
    "\n",
    "    acc + count(cfg, numz)\n",
    "}"
   ],
   "metadata": {
    "collapsed": false,
    "ExecuteTime": {
     "end_time": "2023-12-12T16:42:32.442482Z",
     "start_time": "2023-12-12T16:42:32.248065Z"
    }
   }
  },
  {
   "cell_type": "markdown",
   "source": [
    "### Pt 2"
   ],
   "metadata": {
    "collapsed": false
   }
  },
  {
   "cell_type": "code",
   "execution_count": 30,
   "outputs": [
    {
     "data": {
      "text/plain": "11607695322318"
     },
     "execution_count": 30,
     "metadata": {},
     "output_type": "execute_result"
    }
   ],
   "source": [
    "val lines = File(\"input.txt\").readLines()\n",
    "\n",
    "val cache = hashMapOf<Pair<String, List<Int>>, Long>()\n",
    "fun count(cfg: String, nums: List<Int>): Long {\n",
    "    if (nums.isEmpty()) return if (\"#\" in cfg) 0 else 1\n",
    "    if (cfg.isEmpty()) return 0\n",
    "\n",
    "    return cache.getOrPut(cfg to nums) {\n",
    "        var result = 0L\n",
    "        if (cfg.first() in \".?\")\n",
    "            result += count(cfg.drop(1), nums)\n",
    "        if (cfg.first() in \"#?\" && nums.first() <= cfg.length && \".\" !in cfg.take(nums.first()) && (nums.first() == cfg.length || cfg[nums.first()] != '#'))\n",
    "            result += count(cfg.drop(nums.first() + 1), nums.drop(1))\n",
    "        result\n",
    "    }\n",
    "}\n",
    "\n",
    "lines.fold(0) { acc: Long, line ->\n",
    "    acc + line.split(\" \").let { (cfg, nums) ->\n",
    "        count(\n",
    "            \"$cfg?\".repeat(5).dropLast(1),\n",
    "            \"$nums,\".repeat(5).split(\",\").filter { it.isNotBlank() }.map(String::toInt)\n",
    "        )\n",
    "    }\n",
    "}"
   ],
   "metadata": {
    "collapsed": false,
    "ExecuteTime": {
     "end_time": "2023-12-12T16:42:32.783983Z",
     "start_time": "2023-12-12T16:42:32.439758Z"
    }
   }
  }
 ],
 "metadata": {
  "kernelspec": {
   "display_name": "Kotlin",
   "language": "kotlin",
   "name": "kotlin"
  },
  "language_info": {
   "name": "kotlin",
   "version": "1.9.0",
   "mimetype": "text/x-kotlin",
   "file_extension": ".kt",
   "pygments_lexer": "kotlin",
   "codemirror_mode": "text/x-kotlin",
   "nbconvert_exporter": ""
  }
 },
 "nbformat": 4,
 "nbformat_minor": 0
}
