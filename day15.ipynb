{
 "cells": [
  {
   "cell_type": "code",
   "execution_count": 16,
   "metadata": {
    "collapsed": true,
    "ExecuteTime": {
     "end_time": "2023-12-16T11:27:59.944091Z",
     "start_time": "2023-12-16T11:27:59.840135Z"
    }
   },
   "outputs": [
    {
     "data": {
      "text/plain": "514281"
     },
     "execution_count": 16,
     "metadata": {},
     "output_type": "execute_result"
    }
   ],
   "source": [
    "File(\"input.txt\").readText().trim().split(\",\").fold(0) { acc, line ->\n",
    "    acc + line.fold(0) { acc, char ->\n",
    "        ((acc + char.code) * 17) % 256\n",
    "    }\n",
    "}"
   ]
  },
  {
   "cell_type": "code",
   "execution_count": 17,
   "outputs": [
    {
     "data": {
      "text/plain": "244199"
     },
     "execution_count": 17,
     "metadata": {},
     "output_type": "execute_result"
    }
   ],
   "source": [
    "val boxes = List<MutableMap<String, Int>>(256) { mutableMapOf() }\n",
    "\n",
    "File(\"input.txt\").readText().trim().split(\",\").forEach { instruction ->\n",
    "\n",
    "    if (instruction.endsWith(\"-\")) {\n",
    "        val label = instruction.substringBefore('-')\n",
    "        boxes[label.fold(0) { acc, char ->\n",
    "            ((acc + char.code) * 17) % 256\n",
    "        }].remove(label)\n",
    "    } else {\n",
    "        val label = instruction.substringBefore('=')\n",
    "        boxes[label.fold(0) { acc, char ->\n",
    "            ((acc + char.code) * 17) % 256\n",
    "        }][label] = instruction.substringAfter(\"=\").toInt()\n",
    "    }\n",
    "}\n",
    "\n",
    "boxes.withIndex().sumOf { (boxNumber, lenses) ->\n",
    "    lenses.values.withIndex().sumOf { (lensNumber, lens) ->\n",
    "        (boxNumber + 1) * (lensNumber + 1) * lens\n",
    "    }\n",
    "}"
   ],
   "metadata": {
    "collapsed": false,
    "ExecuteTime": {
     "end_time": "2023-12-16T11:28:00.081149Z",
     "start_time": "2023-12-16T11:27:59.942967Z"
    }
   }
  },
  {
   "cell_type": "code",
   "execution_count": 18,
   "outputs": [],
   "source": [],
   "metadata": {
    "collapsed": false,
    "ExecuteTime": {
     "end_time": "2023-12-16T11:28:00.083646Z",
     "start_time": "2023-12-16T11:28:00.080750Z"
    }
   }
  }
 ],
 "metadata": {
  "kernelspec": {
   "display_name": "Kotlin",
   "language": "kotlin",
   "name": "kotlin"
  },
  "language_info": {
   "name": "kotlin",
   "version": "1.9.0",
   "mimetype": "text/x-kotlin",
   "file_extension": ".kt",
   "pygments_lexer": "kotlin",
   "codemirror_mode": "text/x-kotlin",
   "nbconvert_exporter": ""
  }
 },
 "nbformat": 4,
 "nbformat_minor": 0
}
