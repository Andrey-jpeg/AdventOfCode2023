{
 "cells": [
  {
   "cell_type": "code",
   "execution_count": 3,
   "metadata": {
    "collapsed": true,
    "ExecuteTime": {
     "end_time": "2023-12-06T09:26:47.253030Z",
     "start_time": "2023-12-06T09:26:45.719016Z"
    }
   },
   "outputs": [
    {
     "data": {
      "text/plain": "539590"
     },
     "execution_count": 3,
     "metadata": {},
     "output_type": "execute_result"
    }
   ],
   "source": [
    "import java.io.File\n",
    "\n",
    "val multipleArray: MutableList<CharArray> = mutableListOf()\n",
    "val indexSet: MutableSet<Pair<Int, IntRange>> = mutableSetOf()\n",
    "\n",
    "val lines = File(\"dayThree.txt\").readLines()\n",
    "\n",
    "for (i in 0 until lines.size) {\n",
    "    val chars = lines.get(i).toCharArray()\n",
    "    multipleArray.add(i, chars)\n",
    "}\n",
    "\n",
    "for (i in 0 until multipleArray.size) {\n",
    "    val regex = Regex(\"[^.\\\\d]+\")\n",
    "\n",
    "    for (j in 0 until multipleArray.get(i).size) {\n",
    "        val currentCharacter: Char = multipleArray.get(i).get(j)\n",
    "        val matches = regex.matches(currentCharacter.toString())\n",
    "\n",
    "        if (matches) {\n",
    "            mutableListOf<Pair<Int, Int>>(\n",
    "                i - 1 to j - 1,\n",
    "                i - 1 to j,\n",
    "                i - 1 to j + 1,\n",
    "                i to j - 1,\n",
    "                i to j,\n",
    "                i to j + 1,\n",
    "                i + 1 to j - 1,\n",
    "                i + 1 to j,\n",
    "                i + 1 to j + 1,\n",
    "            ).filter { pair ->\n",
    "                pair.first in 0 until multipleArray.size && pair.second in 0 until multipleArray[pair.first].size\n",
    "            }.filter { pair ->\n",
    "                multipleArray.get(pair.first).get(pair.second).isDigit()\n",
    "            }.forEach { pair ->\n",
    "                val numberIndices =\n",
    "                    getNumberIndices(multipleArray.get(pair.first).concatToString(), pair.second, pair.first)\n",
    "                indexSet.add(numberIndices)\n",
    "            }\n",
    "        }\n",
    "    }\n",
    "}\n",
    "\n",
    "\n",
    "fun getNumberIndices(line: String, xIndex: Int, yIndex: Int): Pair<Int, IntRange> {\n",
    "    var startIndex = xIndex\n",
    "    while (startIndex > 0 && line[startIndex - 1].isDigit()) {\n",
    "        startIndex--\n",
    "    }\n",
    "\n",
    "    var endIndex = xIndex\n",
    "    while (endIndex < line.length - 1 && line[endIndex + 1].isDigit()) {\n",
    "        endIndex++\n",
    "    }\n",
    "\n",
    "    return yIndex to IntRange(startIndex, endIndex)\n",
    "}\n",
    "\n",
    "\n",
    "indexSet.map { multipleArray.get(it.first).slice(it.second).toCharArray().concatToString().toInt() }.sum()"
   ]
  },
  {
   "cell_type": "code",
   "execution_count": 4,
   "outputs": [
    {
     "data": {
      "text/plain": "80703636"
     },
     "execution_count": 4,
     "metadata": {},
     "output_type": "execute_result"
    }
   ],
   "source": [
    "val multipleArray: MutableList<CharArray> = mutableListOf()\n",
    "var sum = 0\n",
    "\n",
    "val lines = File(\"dayThree.txt\").readLines()\n",
    "\n",
    "for (i in 0 until lines.size) {\n",
    "    val chars = lines.get(i).toCharArray()\n",
    "    multipleArray.add(i, chars)\n",
    "}\n",
    "\n",
    "for (i in 0 until multipleArray.size) {\n",
    "    for (j in 0 until multipleArray.get(i).size) {\n",
    "        val indexSet: MutableSet<Pair<Int, IntRange>> = mutableSetOf()\n",
    "        val currentCharacter: Char = multipleArray.get(i).get(j)\n",
    "        val matches = currentCharacter.equals('*')\n",
    "\n",
    "        if (matches) {\n",
    "            mutableListOf<Pair<Int, Int>>(\n",
    "                i - 1 to j - 1,\n",
    "                i - 1 to j,\n",
    "                i - 1 to j + 1,\n",
    "                i to j - 1,\n",
    "                i to j,\n",
    "                i to j + 1,\n",
    "                i + 1 to j - 1,\n",
    "                i + 1 to j,\n",
    "                i + 1 to j + 1,\n",
    "            ).filter { pair ->\n",
    "                pair.first in 0 until multipleArray.size && pair.second in 0 until multipleArray[pair.first].size\n",
    "            }.filter { pair ->\n",
    "                multipleArray.get(pair.first).get(pair.second).isDigit()\n",
    "            }.forEach { pair ->\n",
    "                val numberIndices =\n",
    "                    getNumberIndices(multipleArray.get(pair.first).concatToString(), pair.second, pair.first)\n",
    "                indexSet.add(numberIndices)\n",
    "            }\n",
    "        }\n",
    "        if (indexSet.size == 2) {\n",
    "            val gearRatio =\n",
    "                indexSet.map { multipleArray.get(it.first).slice(it.second).toCharArray().concatToString().toInt() }\n",
    "                    .fold(1) { acc, value -> acc * value }\n",
    "            sum += gearRatio\n",
    "        }\n",
    "    }\n",
    "}\n",
    "\n",
    "sum"
   ],
   "metadata": {
    "collapsed": false,
    "ExecuteTime": {
     "end_time": "2023-12-06T09:26:47.588368Z",
     "start_time": "2023-12-06T09:26:47.242498Z"
    }
   }
  }
 ],
 "metadata": {
  "kernelspec": {
   "display_name": "Kotlin",
   "language": "kotlin",
   "name": "kotlin"
  },
  "language_info": {
   "name": "kotlin",
   "version": "1.9.0",
   "mimetype": "text/x-kotlin",
   "file_extension": ".kt",
   "pygments_lexer": "kotlin",
   "codemirror_mode": "text/x-kotlin",
   "nbconvert_exporter": ""
  }
 },
 "nbformat": 4,
 "nbformat_minor": 0
}
