{
 "cells": [
  {
   "cell_type": "markdown",
   "source": [
    "### Part 1"
   ],
   "metadata": {
    "collapsed": false
   }
  },
  {
   "cell_type": "code",
   "execution_count": 14,
   "outputs": [
    {
     "name": "stdout",
     "output_type": "stream",
     "text": [
      "111339\n"
     ]
    }
   ],
   "source": [
    "val grid = File(\"input.txt\").readLines().map { it.toMutableList() }.toMutableList()\n",
    "\n",
    "fun rotate(G: MutableList<MutableList<Char>>): MutableList<MutableList<Char>> {\n",
    "    val R = G.size\n",
    "    val C = G[0].size\n",
    "    val NG = MutableList(C) { MutableList(R) { '?' } }\n",
    "    for (r in 0 until R) {\n",
    "        for (c in 0 until C) {\n",
    "            NG[c][R - 1 - r] = G[r][c]\n",
    "        }\n",
    "    }\n",
    "    return NG\n",
    "}\n",
    "\n",
    "fun roll(G: MutableList<MutableList<Char>>): MutableList<MutableList<Char>> {\n",
    "    val R = G.size\n",
    "    val C = G[0].size\n",
    "    for (c in 0 until C) {\n",
    "        for (i in 0 until R) {\n",
    "            for (r in 0 until R) {\n",
    "                if (G[r][c] == 'O' && r > 0 && G[r - 1][c] == '.') {\n",
    "                    G[r][c] = '.'\n",
    "                    G[r - 1][c] = 'O'\n",
    "                }\n",
    "            }\n",
    "        }\n",
    "    }\n",
    "    return G\n",
    "}\n",
    "\n",
    "fun score(G: List<List<Char>>): Int {\n",
    "    var ans = 0\n",
    "    val R = G.size\n",
    "    val C = G[0].size\n",
    "    for (r in 0 until R) {\n",
    "        for (c in 0 until C) {\n",
    "            if (G[r][c] == 'O') {\n",
    "                ans += R - r\n",
    "            }\n",
    "        }\n",
    "    }\n",
    "    return ans\n",
    "}\n",
    "\n",
    "val BY_GRID = mutableMapOf<List<List<Char>>, Int>()\n",
    "\n",
    "var G = grid\n",
    "\n",
    "G = roll(G)\n",
    "println(score(G)) // Part 1"
   ],
   "metadata": {
    "collapsed": false,
    "ExecuteTime": {
     "end_time": "2023-12-16T11:41:06.883201Z",
     "start_time": "2023-12-16T11:41:06.738380Z"
    }
   }
  },
  {
   "cell_type": "markdown",
   "source": [
    "### Part 2"
   ],
   "metadata": {
    "collapsed": false
   }
  },
  {
   "cell_type": "code",
   "execution_count": 15,
   "outputs": [
    {
     "name": "stdout",
     "output_type": "stream",
     "text": [
      "93736\n"
     ]
    }
   ],
   "source": [
    "val grid = File(\"input.txt\").readLines().map { it.toMutableList() }.toMutableList()\n",
    "\n",
    "fun rotate(G: MutableList<MutableList<Char>>): MutableList<MutableList<Char>> {\n",
    "    val R = G.size\n",
    "    val C = G[0].size\n",
    "    val NG = MutableList(C) { MutableList(R) { '?' } }\n",
    "    for (r in 0 until R) {\n",
    "        for (c in 0 until C) {\n",
    "            NG[c][R - 1 - r] = G[r][c]\n",
    "        }\n",
    "    }\n",
    "    return NG\n",
    "}\n",
    "\n",
    "fun roll(G: MutableList<MutableList<Char>>): MutableList<MutableList<Char>> {\n",
    "    val R = G.size\n",
    "    val C = G[0].size\n",
    "    for (c in 0 until C) {\n",
    "        for (i in 0 until R) {\n",
    "            for (r in 0 until R) {\n",
    "                if (G[r][c] == 'O' && r > 0 && G[r - 1][c] == '.') {\n",
    "                    G[r][c] = '.'\n",
    "                    G[r - 1][c] = 'O'\n",
    "                }\n",
    "            }\n",
    "        }\n",
    "    }\n",
    "    return G\n",
    "}\n",
    "\n",
    "fun score(G: List<List<Char>>): Int {\n",
    "    var ans = 0\n",
    "    val R = G.size\n",
    "    val C = G[0].size\n",
    "    for (r in 0 until R) {\n",
    "        for (c in 0 until C) {\n",
    "            if (G[r][c] == 'O') {\n",
    "                ans += R - r\n",
    "            }\n",
    "        }\n",
    "    }\n",
    "    return ans\n",
    "}\n",
    "\n",
    "val BY_GRID = mutableMapOf<List<List<Char>>, Int>()\n",
    "\n",
    "val target = 1_000_000_000\n",
    "var t = 0\n",
    "var G = grid\n",
    "while (t < target) {\n",
    "    t++\n",
    "    for (j in 0 until 4) {\n",
    "        G = roll(G)\n",
    "        G = rotate(G)\n",
    "    }\n",
    "    val Gh = G.map { it.toList() }\n",
    "    if (Gh in BY_GRID) {\n",
    "        val cycleLength = t - BY_GRID[Gh]!!\n",
    "        val amt = (target - t) / cycleLength\n",
    "        t += amt * cycleLength\n",
    "    }\n",
    "    BY_GRID[Gh] = t\n",
    "}\n",
    "println(score(G))\n"
   ],
   "metadata": {
    "collapsed": false,
    "ExecuteTime": {
     "end_time": "2023-12-16T11:41:09.034757Z",
     "start_time": "2023-12-16T11:41:06.882054Z"
    }
   }
  },
  {
   "cell_type": "code",
   "execution_count": 16,
   "outputs": [],
   "source": [],
   "metadata": {
    "collapsed": false,
    "ExecuteTime": {
     "end_time": "2023-12-16T11:41:09.037196Z",
     "start_time": "2023-12-16T11:41:09.031978Z"
    }
   }
  }
 ],
 "metadata": {
  "kernelspec": {
   "display_name": "Kotlin",
   "language": "kotlin",
   "name": "kotlin"
  },
  "language_info": {
   "name": "kotlin",
   "version": "1.9.0",
   "mimetype": "text/x-kotlin",
   "file_extension": ".kt",
   "pygments_lexer": "kotlin",
   "codemirror_mode": "text/x-kotlin",
   "nbconvert_exporter": ""
  }
 },
 "nbformat": 4,
 "nbformat_minor": 0
}
