{
 "cells": [
  {
   "cell_type": "code",
   "execution_count": 13,
   "metadata": {
    "collapsed": true,
    "ExecuteTime": {
     "end_time": "2023-12-25T09:08:43.392125Z",
     "start_time": "2023-12-25T09:08:43.161720Z"
    }
   },
   "outputs": [
    {
     "data": {
      "text/plain": "3600"
     },
     "execution_count": 13,
     "metadata": {},
     "output_type": "execute_result"
    }
   ],
   "source": [
    "val grid = File(\"input.txt\").readLines()\n",
    "\n",
    "lateinit var S: Pair<Int, Int>\n",
    "\n",
    "outerloop@ for ((i, _) in grid.withIndex()) {\n",
    "    for ((j, ch) in grid[i].withIndex()) {\n",
    "        if (ch == 'S') {\n",
    "            S = i to j\n",
    "            break@outerloop\n",
    "        }\n",
    "    }\n",
    "}\n",
    "\n",
    "val ans = mutableSetOf<Pair<Int, Int>>()\n",
    "val seen = mutableSetOf(S)\n",
    "val queue = ArrayDeque(setOf<Triple<Int, Int, Int>>(Triple(S.first, S.second, 64)))\n",
    "\n",
    "while (queue.isNotEmpty()) {\n",
    "    val (r, c, s) = queue.removeFirst()\n",
    "\n",
    "    if (s % 2 == 0) {\n",
    "        ans.add(r to c)\n",
    "    }\n",
    "    if (s == 0) {\n",
    "        continue\n",
    "    }\n",
    "\n",
    "    for ((nr, nc) in listOf<Pair<Int, Int>>(r + 1 to c, r - 1 to c, r to c + 1, r to c - 1)) {\n",
    "        if (nr < 0 || nr >= grid.size || nc < 0 || nc >= grid[0].length || grid[nr][nc] == '#' || nr to nc in seen) {\n",
    "            continue\n",
    "        }\n",
    "        seen.add(nr to nc)\n",
    "        queue.add(Triple(nr, nc, s - 1))\n",
    "    }\n",
    "}\n",
    "\n",
    "ans.size"
   ]
  },
  {
   "cell_type": "code",
   "outputs": [
    {
     "data": {
      "text/plain": "599763113936220"
     },
     "execution_count": 21,
     "metadata": {},
     "output_type": "execute_result"
    }
   ],
   "source": [
    "val grid = File(\"input.txt\").readLines()\n",
    "\n",
    "lateinit var S: Pair<Int, Int>\n",
    "\n",
    "outerloop@ for ((i, _) in grid.withIndex()) {\n",
    "    for ((j, ch) in grid[i].withIndex()) {\n",
    "        if (ch == 'S') {\n",
    "            S = i to j\n",
    "            break@outerloop\n",
    "        }\n",
    "    }\n",
    "}\n",
    "\n",
    "val size = grid.size\n",
    "val steps = 26501365\n",
    "\n",
    "fun fill(S: Pair<Int, Int>, SS: Int): Long {\n",
    "    val ans = mutableSetOf<Pair<Int, Int>>()\n",
    "    val seen = mutableSetOf(S)\n",
    "    val queue = ArrayDeque(setOf<Triple<Int, Int, Int>>(Triple(S.first, S.second, SS)))\n",
    "\n",
    "    while (queue.isNotEmpty()) {\n",
    "        val (r, c, s) = queue.removeFirst()\n",
    "\n",
    "        if (s % 2 == 0) {\n",
    "            ans.add(r to c)\n",
    "        }\n",
    "        if (s == 0) {\n",
    "            continue\n",
    "        }\n",
    "\n",
    "        for ((nr, nc) in listOf<Pair<Int, Int>>(r + 1 to c, r - 1 to c, r to c + 1, r to c - 1)) {\n",
    "            if (nr < 0 || nr >= grid.size || nc < 0 || nc >= grid[0].length || grid[nr][nc] == '#' || nr to nc in seen) {\n",
    "                continue\n",
    "            }\n",
    "            seen.add(nr to nc)\n",
    "            queue.add(Triple(nr, nc, s - 1))\n",
    "        }\n",
    "    }\n",
    "\n",
    "    return ans.size.toLong()\n",
    "}\n",
    "\n",
    "val gridWidth = steps / size - 1\n",
    "\n",
    "val odd = ((gridWidth / 2 * 2 + 1).toDouble().pow(2)).toLong()\n",
    "val even = (((gridWidth + 1) / 2 * 2).toDouble().pow(2)).toLong()\n",
    "\n",
    "val oddPoints = fill(S, size * 2 + 1)\n",
    "val evenPoints = fill(S, size * 2)\n",
    "\n",
    "val cornerT = fill(size - 1 to S.second, size - 1)\n",
    "val cornerR = fill(S.first to 0, size - 1)\n",
    "val cornerB = fill(0 to S.second, size - 1)\n",
    "val cornerL = fill(S.first to size - 1, size - 1)\n",
    "\n",
    "val smallTR = fill(size - 1 to 0, size / 2 - 1)\n",
    "val smallTL = fill(size - 1 to size - 1, size / 2 - 1)\n",
    "val smallBR = fill(0 to 0, size / 2 - 1)\n",
    "val smallBL = fill(0 to size - 1, size / 2 - 1)\n",
    "\n",
    "val largeTR = fill(size - 1 to 0, size * 3 / 2 - 1)\n",
    "val largeTL = fill(size - 1 to size - 1, size * 3 / 2 - 1)\n",
    "val largeBR = fill(0 to 0, size * 3 / 2 - 1)\n",
    "val largeBL = fill(0 to size - 1, size * 3 / 2 - 1)\n",
    "\n",
    "odd * oddPoints +\n",
    "        even * evenPoints +\n",
    "        cornerT + cornerR + cornerB + cornerL +\n",
    "        (gridWidth + 1) * (smallTR + smallTL + smallBR + smallBL) +\n",
    "        gridWidth * (largeTR + largeTL + largeBR + largeBL)"
   ],
   "metadata": {
    "collapsed": false,
    "ExecuteTime": {
     "end_time": "2023-12-25T09:26:00.714705Z",
     "start_time": "2023-12-25T09:26:00.450305Z"
    }
   },
   "execution_count": 21
  }
 ],
 "metadata": {
  "kernelspec": {
   "display_name": "Kotlin",
   "language": "kotlin",
   "name": "kotlin"
  },
  "language_info": {
   "name": "kotlin",
   "version": "1.9.0",
   "mimetype": "text/x-kotlin",
   "file_extension": ".kt",
   "pygments_lexer": "kotlin",
   "codemirror_mode": "text/x-kotlin",
   "nbconvert_exporter": ""
  }
 },
 "nbformat": 4,
 "nbformat_minor": 0
}
