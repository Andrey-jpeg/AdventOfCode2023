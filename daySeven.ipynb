{
 "cells": [
  {
   "cell_type": "code",
   "execution_count": 162,
   "metadata": {
    "collapsed": true,
    "ExecuteTime": {
     "end_time": "2023-12-07T12:19:04.295760Z",
     "start_time": "2023-12-07T12:19:03.993150Z"
    }
   },
   "outputs": [
    {
     "data": {
      "text/plain": "252052080"
     },
     "execution_count": 162,
     "metadata": {},
     "output_type": "execute_result"
    }
   ],
   "source": [
    "val cardsAndBidsSorted: MutableList<Pair<Array<Int>, Int>> = mutableListOf<Pair<Array<Int>, Int>>()\n",
    "\n",
    "val comparator = object : Comparator<Pair<Array<Int>, Int>> {\n",
    "    override fun compare(pair1: Pair<Array<Int>, Int>, pair2: Pair<Array<Int>, Int>): Int {\n",
    "        val currCards = pair1.first\n",
    "        val nextCards = pair2.first\n",
    "\n",
    "        val pairOneGrouping = currCards.groupingBy { it }.eachCount()\n",
    "        val pairTwoGrouping = nextCards.groupingBy { it }.eachCount()\n",
    "\n",
    "\n",
    "        var sorting = pairTwoGrouping.size - pairOneGrouping.size\n",
    "        if (sorting == 0) {\n",
    "            sorting = pairOneGrouping.values.max() - pairTwoGrouping.values.max()\n",
    "            if (sorting == 0) {\n",
    "\n",
    "                for ((index, card) in pair1.first.withIndex()) {\n",
    "                    val card2 = pair2.first.get(index)\n",
    "\n",
    "                    if (card > card2 || card < card2) {\n",
    "                        sorting = card - card2\n",
    "                        break\n",
    "\n",
    "                    }\n",
    "                }\n",
    "            }\n",
    "        }\n",
    "\n",
    "        return sorting\n",
    "    }\n",
    "}\n",
    "\n",
    "val lines = File(\"daySeven.txt\").forEachLine {\n",
    "    val cardsAndBids = it.split(' ')\n",
    "\n",
    "    val cards = cardsAndBids[0].map {\n",
    "        when (it) {\n",
    "            'A' -> 14\n",
    "            'K' -> 13\n",
    "            'Q' -> 12\n",
    "            'J' -> 11\n",
    "            'T' -> 10\n",
    "            else -> it.toString().toInt()\n",
    "        }\n",
    "    }.toTypedArray()\n",
    "    val bids = cardsAndBids[1].toInt()\n",
    "\n",
    "    cardsAndBidsSorted.add(cards to bids)\n",
    "}\n",
    "\n",
    "cardsAndBidsSorted.sortedWith(comparator).foldIndexed(0) { index, acc, value ->\n",
    "    acc + (value.second * (index + 1))\n",
    "}"
   ]
  },
  {
   "cell_type": "code",
   "execution_count": 206,
   "outputs": [
    {
     "data": {
      "text/plain": "252898370"
     },
     "execution_count": 206,
     "metadata": {},
     "output_type": "execute_result"
    }
   ],
   "source": [
    "val cardsAndBidsSorted: MutableList<Pair<Int, Int>> = mutableListOf<Pair<Int, Int>>() \n",
    "\n",
    "val lines = File(\"daySeven.txt\").forEachLine {\n",
    "    val cardsAndBids = it.split(' ')\n",
    "\n",
    "    val cards = cardsAndBids[0].map {\n",
    "        when (it) {\n",
    "            'T' -> \"A\"\n",
    "            'J' -> \"1\"\n",
    "            'Q' -> \"B\"\n",
    "            'K' -> \"C\"\n",
    "            'A' -> \"D\"\n",
    "            else -> it.toString()\n",
    "        }\n",
    "    }.toList()\n",
    "\n",
    "    val bids = cardsAndBids[1].toInt()\n",
    "\n",
    "    val cardsNoJokers: MutableList<String> = mutableListOf<String>()\n",
    "    cardsNoJokers.addAll(cards)\n",
    "    cardsNoJokers.removeAll { it.equals(\"1\") }\n",
    "    val jokers = cards.count { it.equals(\"1\") }\n",
    "\n",
    "    val type = if (cards.all { it.equals(\"1\") }) {\n",
    "        \"7\"\n",
    "    } else {\n",
    "        when (cardsNoJokers.distinct().size) {\n",
    "            1 -> \"7\" \n",
    "            2 -> {\n",
    "                val max = cardsNoJokers.distinct().maxBy { it1 -> cardsNoJokers.count { it == it1 } }\n",
    "                val count = cardsNoJokers.count { it == max } + jokers\n",
    "                if (count == 4) {\n",
    "                    \"6\" \n",
    "                } else {\n",
    "                    \"5\" \n",
    "                }\n",
    "            }\n",
    "\n",
    "            3 -> {\n",
    "                val max = cardsNoJokers.distinct().maxBy { it1 -> cardsNoJokers.count { it == it1 } }\n",
    "                val count = cardsNoJokers.count { it == max } + jokers\n",
    "                if (count == 3) {\n",
    "                    \"4\" \n",
    "                } else {\n",
    "                    \"3\" \n",
    "                }\n",
    "            }\n",
    "\n",
    "            4 -> \"2\"\n",
    "            else -> \"1\" \n",
    "        }\n",
    "    }\n",
    "    \n",
    "    cardsAndBidsSorted.add((type + cards.joinToString(\"\")).toInt(16) to bids)\n",
    "}\n",
    "\n",
    "cardsAndBidsSorted.sortedBy { it.first }.foldIndexed(0) { index, acc, value ->\n",
    "    acc + (value.second * (index + 1))\n",
    "}"
   ],
   "metadata": {
    "collapsed": false,
    "ExecuteTime": {
     "end_time": "2023-12-07T13:49:43.388104Z",
     "start_time": "2023-12-07T13:49:43.152269Z"
    }
   }
  },
  {
   "cell_type": "code",
   "execution_count": 209,
   "outputs": [
    {
     "data": {
      "text/plain": "252898370"
     },
     "execution_count": 209,
     "metadata": {},
     "output_type": "execute_result"
    }
   ],
   "source": [],
   "metadata": {
    "collapsed": false,
    "ExecuteTime": {
     "end_time": "2023-12-07T13:50:17.124831Z",
     "start_time": "2023-12-07T13:50:17.040213Z"
    }
   }
  }
 ],
 "metadata": {
  "kernelspec": {
   "display_name": "Kotlin",
   "language": "kotlin",
   "name": "kotlin"
  },
  "language_info": {
   "name": "kotlin",
   "version": "1.9.0",
   "mimetype": "text/x-kotlin",
   "file_extension": ".kt",
   "pygments_lexer": "kotlin",
   "codemirror_mode": "text/x-kotlin",
   "nbconvert_exporter": ""
  }
 },
 "nbformat": 4,
 "nbformat_minor": 0
}
