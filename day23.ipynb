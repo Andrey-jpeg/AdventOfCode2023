{
 "cells": [
  {
   "cell_type": "code",
   "outputs": [],
   "source": [
    "data class Node(val coordinate: Pair<Int, Int>, val n: Int)"
   ],
   "metadata": {
    "collapsed": false,
    "ExecuteTime": {
     "end_time": "2023-12-27T14:19:47.573131Z",
     "start_time": "2023-12-27T14:19:47.509845Z"
    }
   },
   "execution_count": 39
  },
  {
   "cell_type": "code",
   "outputs": [
    {
     "data": {
      "text/plain": "2162"
     },
     "execution_count": 40,
     "metadata": {},
     "output_type": "execute_result"
    }
   ],
   "source": [
    "val grid = File(\"input.txt\").readLines().dropLastWhile(String::isBlank)\n",
    "\n",
    "val start = Pair(0, grid[0].indexOf('.'))\n",
    "val end = Pair(grid.size - 1, grid.last().indexOf('.'))\n",
    "\n",
    "val points = mutableListOf(start, end)\n",
    "\n",
    "val dirs = mapOf(\n",
    "    '^' to listOf(-1 to 0),\n",
    "    'v' to listOf(1 to 0),\n",
    "    '<' to listOf(0 to -1),\n",
    "    '>' to listOf(0 to 1),\n",
    "    '.' to listOf(-1 to 0, 1 to 0, 0 to -1, 0 to 1)\n",
    ")\n",
    "\n",
    "for ((r, row) in grid.withIndex()) {\n",
    "    for ((c, ch) in row.withIndex()) {\n",
    "        if (ch == '#') continue\n",
    "        var neighbors = 0\n",
    "        for ((dr, dc) in dirs['.']!!) {\n",
    "            val nr = r + dr\n",
    "            val nc = c + dc\n",
    "            if (nr in grid.indices && nc in row.indices && grid[nr][nc] != '#') {\n",
    "                neighbors++\n",
    "            }\n",
    "        }\n",
    "        if (neighbors >= 3) {\n",
    "            points.add(Pair(r, c))\n",
    "        }\n",
    "    }\n",
    "}\n",
    "\n",
    "val graph: MutableMap<Pair<Int, Int>, MutableList<Node>> = points.associateWith { mutableListOf<Node>() }.toMutableMap()\n",
    "\n",
    "for ((sr, sc) in points) {\n",
    "    val stack = ArrayDeque<Triple<Int, Int, Int>>()\n",
    "    stack.add(Triple(0, sr, sc))\n",
    "    val seen = mutableSetOf<Pair<Int, Int>>()\n",
    "\n",
    "    while (stack.isNotEmpty()) {\n",
    "        val (n, r, c) = stack.removeFirst()\n",
    "\n",
    "        if (n != 0  && Pair(r, c) in points) {\n",
    "            graph[sr to sc]!!.add(Node(Pair(r, c), n))\n",
    "            continue\n",
    "        }\n",
    "\n",
    "        for ((dr, dc) in dirs[grid[r][c]]!!) {\n",
    "            val nr = r + dr\n",
    "            val nc = c + dc\n",
    "            if (nr in grid.indices && nc in grid[0].indices && grid[nr][nc] != '#' && Pair(nr, nc) !in seen) {\n",
    "                stack.add(Triple(n + 1, nr, nc))\n",
    "                seen.add(Pair(nr, nc))\n",
    "            }\n",
    "        }\n",
    "    }\n",
    "}\n",
    "\n",
    "val seen = mutableSetOf<Pair<Int, Int>>()\n",
    "\n",
    "fun dfs(pt: Pair<Int, Int>): Int {\n",
    "    if (pt == end) {\n",
    "        return 0\n",
    "    }\n",
    "\n",
    "    var m = Int.MIN_VALUE\n",
    "\n",
    "    seen.add(pt)\n",
    "    for (nx in graph[pt]!!) {\n",
    "        if (nx.coordinate !in seen) {\n",
    "            m = maxOf(m, dfs(nx.coordinate) + nx.n)\n",
    "        }\n",
    "    }\n",
    "    seen.remove(pt)\n",
    "    return m\n",
    "}\n",
    "\n",
    "dfs(start)"
   ],
   "metadata": {
    "collapsed": true,
    "ExecuteTime": {
     "end_time": "2023-12-27T14:19:47.758162Z",
     "start_time": "2023-12-27T14:19:47.572313Z"
    }
   },
   "execution_count": 40
  },
  {
   "cell_type": "code",
   "outputs": [
    {
     "data": {
      "text/plain": "6334"
     },
     "execution_count": 41,
     "metadata": {},
     "output_type": "execute_result"
    }
   ],
   "source": [
    "val grid = File(\"input.txt\").readLines().dropLastWhile(String::isBlank)\n",
    "\n",
    "val start = Pair(0, grid[0].indexOf('.'))\n",
    "val end = Pair(grid.size - 1, grid.last().indexOf('.'))\n",
    "\n",
    "val points = mutableListOf(start, end)\n",
    "\n",
    "for ((r, row) in grid.withIndex()) {\n",
    "    for ((c, ch) in row.withIndex()) {\n",
    "        if (ch == '#') continue\n",
    "        var neighbors = 0\n",
    "        for ((dr, dc) in dirs['.']!!) {\n",
    "            val nr = r + dr\n",
    "            val nc = c + dc\n",
    "            if (nr in grid.indices && nc in row.indices && grid[nr][nc] != '#') {\n",
    "                neighbors++\n",
    "            }\n",
    "        }\n",
    "        if (neighbors >= 3) {\n",
    "            points.add(Pair(r, c))\n",
    "        }\n",
    "    }\n",
    "}\n",
    "\n",
    "val graph: MutableMap<Pair<Int, Int>, MutableList<Node>> = points.associateWith { mutableListOf<Node>() }.toMutableMap()\n",
    "\n",
    "for ((sr, sc) in points) {\n",
    "    val stack = ArrayDeque<Triple<Int, Int, Int>>()\n",
    "    stack.add(Triple(0, sr, sc))\n",
    "    val seen = mutableSetOf<Pair<Int, Int>>()\n",
    "\n",
    "    while (stack.isNotEmpty()) {\n",
    "        val (n, r, c) = stack.removeFirst()\n",
    "\n",
    "        if (n != 0  && Pair(r, c) in points) {\n",
    "            graph[sr to sc]!!.add(Node(Pair(r, c), n))\n",
    "            continue\n",
    "        }\n",
    "\n",
    "        for ((dr, dc) in listOf(-1 to 0, 1 to 0, 0 to -1, 0 to 1)) {\n",
    "            val nr = r + dr\n",
    "            val nc = c + dc\n",
    "            if (nr in grid.indices && nc in grid[0].indices && grid[nr][nc] != '#' && Pair(nr, nc) !in seen) {\n",
    "                stack.add(Triple(n + 1, nr, nc))\n",
    "                seen.add(Pair(nr, nc))\n",
    "            }\n",
    "        }\n",
    "    }\n",
    "}\n",
    "\n",
    "val seen = mutableSetOf<Pair<Int, Int>>()\n",
    "\n",
    "fun dfs(pt: Pair<Int, Int>): Int {\n",
    "    if (pt == end) {\n",
    "        return 0\n",
    "    }\n",
    "\n",
    "    var m = Int.MIN_VALUE\n",
    "\n",
    "    seen.add(pt)\n",
    "    for (nx in graph[pt]!!) {\n",
    "        if (nx.coordinate !in seen) {\n",
    "            m = maxOf(m, dfs(nx.coordinate) + nx.n)\n",
    "        }\n",
    "    }\n",
    "    seen.remove(pt)\n",
    "    return m\n",
    "}\n",
    "\n",
    "dfs(start)"
   ],
   "metadata": {
    "collapsed": false,
    "ExecuteTime": {
     "end_time": "2023-12-27T14:19:51.514716Z",
     "start_time": "2023-12-27T14:19:47.758862Z"
    }
   },
   "execution_count": 41
  }
 ],
 "metadata": {
  "kernelspec": {
   "display_name": "Kotlin",
   "language": "kotlin",
   "name": "kotlin"
  },
  "language_info": {
   "name": "kotlin",
   "version": "1.9.0",
   "mimetype": "text/x-kotlin",
   "file_extension": ".kt",
   "pygments_lexer": "kotlin",
   "codemirror_mode": "text/x-kotlin",
   "nbconvert_exporter": ""
  }
 },
 "nbformat": 4,
 "nbformat_minor": 0
}
