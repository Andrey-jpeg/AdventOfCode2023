{
 "cells": [
  {
   "cell_type": "code",
   "execution_count": 38,
   "metadata": {
    "collapsed": true,
    "ExecuteTime": {
     "end_time": "2023-12-08T16:20:27.479309Z",
     "start_time": "2023-12-08T16:20:27.378097Z"
    }
   },
   "outputs": [
    {
     "name": "stdout",
     "output_type": "stream",
     "text": [
      "LRRRLLRLLRRLRLRRRLRLRRRLRRLLRRRLRRLRLLRLLRRLRLLLLRRLRRLRLLRRLRRRLLLRRLRLRRLRRRLRRRLLRLRRRLLRRLRRRLRRLRLRRLRRLLRLRLRRRLRRLRRLRRRLRRLRRLRLRRRLRRRLRRRLLLRLRRLRLRRRLRRRLRRLRRLLRLRRLLRRLLRLRRLRLRRLRRRLRLRRLRLRRRLLRRLLRLRRRLRRRLRRRLRRRLLLRLRRLRRRLRRRLRLLRRLLRRLRLRLLRRLRRLLRRRLRLRRRLRRRR\n",
      "16579\n"
     ]
    }
   ],
   "source": [
    "var steps = 0;\n",
    "val text = File(\"dayEight.txt\").readText()\n",
    "val blocks = text.split(\"\\n\\n\")\n",
    "val instructions = blocks[0].toCharArray()\n",
    "val networkMap = mutableMapOf<String, Pair<String, String>>()\n",
    "val regex = \"\\\\b\\\\w{3}\\\\b\".toRegex()\n",
    "\n",
    "val matches = regex.findAll(blocks[1])\n",
    "    .map { it.value }\n",
    "    .toList()\n",
    "    .chunked(3) {\n",
    "        networkMap.put(it[0], it[1] to it[2])\n",
    "    }\n",
    "\n",
    "\n",
    "var node = networkMap.get(\"AAA\")!!\n",
    "var index = 0 // Start index at the beginning of the array\n",
    "\n",
    "while (true) {\n",
    "    steps++\n",
    "    val instruction = instructions[index]\n",
    "    index = (index + 1) % instructions.size\n",
    "\n",
    "    val newNode = if (instruction == 'R') {\n",
    "        node.second\n",
    "    } else {\n",
    "        node.first\n",
    "    }\n",
    "\n",
    "    if (newNode == \"ZZZ\") {\n",
    "        break\n",
    "    }\n",
    "    \n",
    "    node = networkMap.get(newNode)!!\n",
    "}\n",
    "\n",
    "println(steps)"
   ]
  },
  {
   "cell_type": "code",
   "execution_count": 49,
   "outputs": [
    {
     "data": {
      "text/plain": "12927600769609"
     },
     "execution_count": 49,
     "metadata": {},
     "output_type": "execute_result"
    }
   ],
   "source": [
    "val text = File(\"dayEight.txt\").readText()\n",
    "val blocks = text.split(\"\\n\\n\")\n",
    "val instructions = blocks[0].toCharArray()\n",
    "val networkMap = mutableMapOf<String, Pair<String, String>>()\n",
    "val regex = \"\\\\b\\\\w{3}\\\\b\".toRegex()\n",
    "\n",
    "val matches = regex.findAll(blocks[1])\n",
    "    .map { it.value }\n",
    "    .toList()\n",
    "    .chunked(3) {\n",
    "        networkMap.put(it[0], it[1] to it[2])\n",
    "    }\n",
    "\n",
    "\n",
    "val nodes = networkMap.keys.filter { it.last() == 'A' }.toMutableList()\n",
    "\n",
    "val steps = LongArray(nodes.size) { 0L }\n",
    "nodes.forEachIndexed { index, start ->\n",
    "    var current = start\n",
    "    while (!current.endsWith('Z')) {\n",
    "        val i = instructions[(steps[index]++ % instructions.size).toInt()]\n",
    "        current = if (i == 'L') networkMap[current]!!.first else networkMap[current]!!.second\n",
    "    }\n",
    "}\n",
    "tailrec fun gcd(a: Long, b: Long): Long = if (b == 0L) a else gcd(b, a % b)\n",
    "fun lcm(a: Long, b: Long) = a * b / gcd(a, b)\n",
    "steps.reduce(::lcm)"
   ],
   "metadata": {
    "collapsed": false,
    "ExecuteTime": {
     "end_time": "2023-12-08T16:54:10.055534Z",
     "start_time": "2023-12-08T16:54:09.814830Z"
    }
   }
  },
  {
   "cell_type": "code",
   "execution_count": null,
   "outputs": [],
   "source": [],
   "metadata": {
    "collapsed": false
   }
  }
 ],
 "metadata": {
  "kernelspec": {
   "display_name": "Kotlin",
   "language": "kotlin",
   "name": "kotlin"
  },
  "language_info": {
   "name": "kotlin",
   "version": "1.9.0",
   "mimetype": "text/x-kotlin",
   "file_extension": ".kt",
   "pygments_lexer": "kotlin",
   "codemirror_mode": "text/x-kotlin",
   "nbconvert_exporter": ""
  }
 },
 "nbformat": 4,
 "nbformat_minor": 0
}
