{
 "cells": [
  {
   "cell_type": "code",
   "execution_count": 11,
   "metadata": {
    "collapsed": true,
    "ExecuteTime": {
     "end_time": "2023-12-09T12:42:08.013418Z",
     "start_time": "2023-12-09T12:42:07.856840Z"
    }
   },
   "outputs": [
    {
     "data": {
      "text/plain": "1789635132"
     },
     "execution_count": 11,
     "metadata": {},
     "output_type": "execute_result"
    }
   ],
   "source": [
    "val lines = File(\"input.txt\").readLines()\n",
    "\n",
    "\n",
    "tailrec fun getValues(values: List<Int>, difs: MutableList<Int> = mutableListOf()): Int {\n",
    "    if (values.size <= 1) {\n",
    "        return if (difs.all { it == 0 }) values.last() else values.last() + getValues(values = difs)\n",
    "    }\n",
    "\n",
    "    val dif = values[1] - values[0]\n",
    "    val newValues = values.drop(1)\n",
    "    return getValues(newValues, difs.apply { add(dif) })\n",
    "}\n",
    "\n",
    "\n",
    "lines.fold(0) { acc, line ->\n",
    "    acc + getValues(\n",
    "        Regex(\"-?\\\\d+\").findAll(line)\n",
    "        .map { it.value.toInt() }\n",
    "        .toList()    \n",
    "    )    \n",
    "}"
   ]
  },
  {
   "cell_type": "code",
   "execution_count": 12,
   "outputs": [
    {
     "data": {
      "text/plain": "913"
     },
     "execution_count": 12,
     "metadata": {},
     "output_type": "execute_result"
    }
   ],
   "source": [
    "val lines = File(\"input.txt\").readLines()\n",
    "\n",
    "fun List<Int>.getValues(): Int {\n",
    "    val difs = mutableListOf<Int>()\n",
    "\n",
    "    for (i in 0 until this.size - 1) {\n",
    "        difs.add(this[i + 1] - this[i])\n",
    "    }\n",
    "\n",
    "    if (difs.all { it == 0 }) {\n",
    "        return this.first()\n",
    "    } else {\n",
    "        return this.first() - difs.getValues()\n",
    "    }\n",
    "}\n",
    "\n",
    "lines.fold(0) { acc, line ->\n",
    "    acc + Regex(\"-?\\\\d+\").findAll(line)\n",
    "        .map { it.value.toInt() }\n",
    "        .toList()\n",
    "        .getValues()\n",
    "}"
   ],
   "metadata": {
    "collapsed": false,
    "ExecuteTime": {
     "end_time": "2023-12-09T12:42:08.125439Z",
     "start_time": "2023-12-09T12:42:08.012294Z"
    }
   }
  },
  {
   "cell_type": "code",
   "execution_count": 13,
   "outputs": [],
   "source": [],
   "metadata": {
    "collapsed": false,
    "ExecuteTime": {
     "end_time": "2023-12-09T12:42:08.127723Z",
     "start_time": "2023-12-09T12:42:08.124573Z"
    }
   }
  }
 ],
 "metadata": {
  "kernelspec": {
   "display_name": "Kotlin",
   "language": "kotlin",
   "name": "kotlin"
  },
  "language_info": {
   "name": "kotlin",
   "version": "1.9.0",
   "mimetype": "text/x-kotlin",
   "file_extension": ".kt",
   "pygments_lexer": "kotlin",
   "codemirror_mode": "text/x-kotlin",
   "nbconvert_exporter": ""
  }
 },
 "nbformat": 4,
 "nbformat_minor": 0
}
