{
 "cells": [
  {
   "cell_type": "code",
   "execution_count": 107,
   "metadata": {
    "collapsed": true,
    "ExecuteTime": {
     "end_time": "2023-12-20T21:25:56.096502Z",
     "start_time": "2023-12-20T21:25:55.747752Z"
    }
   },
   "outputs": [
    {
     "data": {
      "text/plain": "432788"
     },
     "execution_count": 107,
     "metadata": {},
     "output_type": "execute_result"
    }
   ],
   "source": [
    "data class Ruleset(val key: Char, val cmp: Char, val n: Int, val destination: String)\n",
    "\n",
    "val (block1, block2) = File(\"input.txt\").readText().split(\"\\n\\n\")\n",
    "val workflows = hashMapOf<String, Pair<List<Ruleset>, String>>()\n",
    "\n",
    "block1.lines().forEach { line ->\n",
    "    val (name, rest) = line.dropLast(1).split(\"{\")\n",
    "    workflows[name] = Pair(rest.split(\",\").dropLast(1).map {\n",
    "        val (c, g) = it.split(\":\")\n",
    "        Ruleset(c.first(), c[1], c.substring(2).toInt(), g)\n",
    "    }, rest.substringAfterLast(\",\").split(\":\").last())\n",
    "}\n",
    "\n",
    "val ops = mapOf(\n",
    "    '>' to { a: Int, b: Int -> a > b },\n",
    "    '<' to { a: Int, b: Int -> a < b }\n",
    ")\n",
    "\n",
    "\n",
    "fun accept(item: Map<Char, Int>, name: String = \"in\"): Boolean {\n",
    "    if (name == \"R\") return false\n",
    "    if (name == \"A\") return true\n",
    "    val (rules, fallback) = workflows[name]!!\n",
    "    for ((key, cmp, n, target) in rules) {\n",
    "        if (ops[cmp]!!(item[key]!!, n)) return accept(item, target)\n",
    "    }\n",
    "    return accept(item, fallback)\n",
    "}\n",
    "\n",
    "block2.lines().fold(0) { acc, line ->\n",
    "    line.substring(1, line.length - 1).split(\",\").associate {\n",
    "        val (ch, n) = it.split(\"=\")\n",
    "        ch[0] to n.toInt()\n",
    "    }.let { if (accept(it)) acc + it.values.sum() else acc + 0 }\n",
    "}\n"
   ]
  },
  {
   "cell_type": "code",
   "execution_count": 108,
   "outputs": [
    {
     "data": {
      "text/plain": "142863718918201"
     },
     "execution_count": 108,
     "metadata": {},
     "output_type": "execute_result"
    }
   ],
   "source": [
    "data class Ruleset(val key: Char, val cmp: Char, val n: Int, val destination: String)\n",
    "\n",
    "val (block1, _) = File(\"input.txt\").readText().split(\"\\n\\n\")\n",
    "val workflows = hashMapOf<String, Pair<List<Ruleset>, String>>()\n",
    "\n",
    "block1.lines().forEach { line ->\n",
    "    val (name, rest) = line.dropLast(1).split(\"{\")\n",
    "    workflows[name] = Pair(rest.split(\",\").dropLast(1).map {\n",
    "        val (c, g) = it.split(\":\")\n",
    "        Ruleset(c.first(), c[1], c.substring(2).toInt(), g)\n",
    "    }, rest.substringAfterLast(\",\").split(\":\").last())\n",
    "}\n",
    "\n",
    "fun count(ranges: Map<Char, IntRange>, name: String = \"in\"): Long {\n",
    "    if (name == \"R\") return 0\n",
    "    if (name == \"A\") return ranges.values.fold(1L) { acc, range -> acc * (range.last - range.first + 1) }\n",
    "    val (rules, fallback) = workflows[name]!!\n",
    "    var total = 0L\n",
    "    val nr = ranges.toMutableMap()\n",
    "    for ((key, cmp, n, target) in rules) {\n",
    "        val range = nr[key]!!\n",
    "        val (a, r) = if (cmp == '>') n + 1..range.last to range.first..n else range.first..<n to n..range.last\n",
    "        if (a.first <= a.last) total += count(nr.apply { put(key, a) }, target)\n",
    "        if (r.first <= r.last) nr[key] = r else break\n",
    "    }\n",
    "    return total + count(nr, fallback)\n",
    "}\n",
    "count(\"xmas\".associate { it to (1..4000) })"
   ],
   "metadata": {
    "collapsed": false,
    "ExecuteTime": {
     "end_time": "2023-12-20T21:28:54.620044Z",
     "start_time": "2023-12-20T21:28:54.293782Z"
    }
   }
  },
  {
   "cell_type": "code",
   "execution_count": null,
   "outputs": [],
   "source": [],
   "metadata": {
    "collapsed": false
   }
  }
 ],
 "metadata": {
  "kernelspec": {
   "display_name": "Kotlin",
   "language": "kotlin",
   "name": "kotlin"
  },
  "language_info": {
   "name": "kotlin",
   "version": "1.9.0",
   "mimetype": "text/x-kotlin",
   "file_extension": ".kt",
   "pygments_lexer": "kotlin",
   "codemirror_mode": "text/x-kotlin",
   "nbconvert_exporter": ""
  }
 },
 "nbformat": 4,
 "nbformat_minor": 0
}
