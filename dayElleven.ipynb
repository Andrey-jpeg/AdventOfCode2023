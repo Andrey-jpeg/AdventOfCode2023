{
 "cells": [
  {
   "cell_type": "code",
   "execution_count": 93,
   "outputs": [
    {
     "data": {
      "text/plain": "9599070"
     },
     "execution_count": 93,
     "metadata": {},
     "output_type": "execute_result"
    }
   ],
   "source": [
    "import java.io.File\n",
    "\n",
    "var grid = File(\"input.txt\").readLines()\n",
    "\n",
    "val sumRows = grid.runningFold(0) { prev, row ->\n",
    "    if (row.any { it == '#' }) prev else prev + 1\n",
    "}\n",
    "\n",
    "\n",
    "val sumCols = grid.first().indices.map { colIdx -> grid.map { row -> row[colIdx] } }.runningFold(0) { prev, col ->\n",
    "    if (col.any { it == '#' }) prev else prev + 1\n",
    "}\n",
    "\n",
    "val galaxies = grid.flatMapIndexed { rowIdx, row ->\n",
    "    row.mapIndexedNotNull { colIdx, c ->\n",
    "        return@mapIndexedNotNull if (c == '#') {\n",
    "            colIdx + sumCols[colIdx] to\n",
    "                    rowIdx + sumRows[rowIdx]\n",
    "        } else null\n",
    "    }\n",
    "}\n",
    "\n",
    "\n",
    "(0 until galaxies.size - 1).fold(0L) { acc, i ->\n",
    "    acc + (i + 1 until galaxies.size).fold(0L) { innerAcc, j ->\n",
    "        innerAcc + (Math.abs(galaxies[j].first - galaxies[i].first) +\n",
    "                Math.abs(galaxies[j].second - galaxies[i].second)).toLong()\n",
    "    }\n",
    "}"
   ],
   "metadata": {
    "collapsed": false,
    "ExecuteTime": {
     "end_time": "2023-12-11T20:51:57.256918Z",
     "start_time": "2023-12-11T20:51:57.142144Z"
    }
   }
  },
  {
   "cell_type": "code",
   "execution_count": null,
   "outputs": [],
   "source": [
    "import java.io.File\n",
    "\n",
    "var grid = File(\"input.txt\").readLines()\n",
    "\n",
    "val sumRows = grid.runningFold(0) { prev, row ->\n",
    "    if (row.any { it == '#' }) prev else prev + 1\n",
    "}\n",
    "\n",
    "val sumCols = grid.first().indices.map { colIdx -> grid.map { row -> row[colIdx] } }.runningFold(0) { prev, col ->\n",
    "    if (col.any { it == '#' }) prev else prev + 1\n",
    "}\n",
    "\n",
    "val galaxies = grid.flatMapIndexed { rowIdx, row ->\n",
    "    row.mapIndexedNotNull { colIdx, c ->\n",
    "        return@mapIndexedNotNull if (c == '#') {\n",
    "            colIdx + sumCols[colIdx] * (1_000_000 - 1) to\n",
    "                    rowIdx + sumRows[rowIdx] * (1_000_000 - 1)\n",
    "        } else null\n",
    "    }\n",
    "}\n",
    "\n",
    "\n",
    "(0 until galaxies.size - 1).fold(0L) { acc, i ->\n",
    "    acc + (i + 1 until galaxies.size).fold(0L) { innerAcc, j ->\n",
    "        innerAcc + (Math.abs(galaxies[j].first - galaxies[i].first) +\n",
    "                Math.abs(galaxies[j].second - galaxies[i].second)).toLong()\n",
    "    }\n",
    "}"
   ],
   "metadata": {
    "collapsed": false
   }
  },
  {
   "cell_type": "code",
   "execution_count": null,
   "outputs": [],
   "source": [],
   "metadata": {
    "collapsed": false
   }
  }
 ],
 "metadata": {
  "kernelspec": {
   "display_name": "Kotlin",
   "language": "kotlin",
   "name": "kotlin"
  },
  "language_info": {
   "name": "kotlin",
   "version": "1.9.0",
   "mimetype": "text/x-kotlin",
   "file_extension": ".kt",
   "pygments_lexer": "kotlin",
   "codemirror_mode": "text/x-kotlin",
   "nbconvert_exporter": ""
  }
 },
 "nbformat": 4,
 "nbformat_minor": 0
}
