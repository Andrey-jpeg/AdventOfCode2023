{
 "cells": [
  {
   "cell_type": "markdown",
   "source": [
    "## Part 1"
   ],
   "metadata": {
    "collapsed": false
   }
  },
  {
   "cell_type": "code",
   "execution_count": 17,
   "outputs": [
    {
     "data": {
      "text/plain": "6994"
     },
     "execution_count": 17,
     "metadata": {},
     "output_type": "execute_result"
    }
   ],
   "source": [
    "val grid = File(\"input.txt\").readLines()\n",
    "\n",
    "data class Quadruple<T1, T2, T3, T4>(val t1: T1, val t2: T2, val t3: T3, val t4: T4)\n",
    "\n",
    "// Keeps row, column, row, directionRow, directionColumn\n",
    "val state = Quadruple(0, -1, 0, 1)\n",
    "val seen = mutableSetOf<Quadruple<Int, Int, Int, Int>>()\n",
    "val queue = ArrayDeque<Quadruple<Int, Int, Int, Int>>()\n",
    "queue.addLast(state)\n",
    "\n",
    "while (queue.isNotEmpty()) {\n",
    "    lateinit var newPos: Quadruple<Int, Int, Int, Int>\n",
    "    var (r, c, dr, dc) = queue.removeFirst()\n",
    "\n",
    "    r += dr\n",
    "    c += dc\n",
    "\n",
    "    if (r < 0 || r >= grid.size || c < 0 || c >= grid[0].length) {\n",
    "        continue\n",
    "    }\n",
    "\n",
    "    val curr = grid[r][c]\n",
    "    \n",
    "\n",
    "    if (curr == '.' || (curr == '-' && dc != 0) || (curr == '|' && dr != 0)) {\n",
    "        newPos = Quadruple(r, c, dr, dc)\n",
    "        if (newPos !in seen) {\n",
    "            seen.add(newPos)\n",
    "            queue.addLast(newPos)\n",
    "        }\n",
    "    } else if (curr == '/') {\n",
    "        val tempDr = -dc\n",
    "        val tempDc = -dr\n",
    "        dr = tempDr\n",
    "        dc = tempDc\n",
    "        newPos = Quadruple(r, c, dr, dc)\n",
    "        if (newPos !in seen) {\n",
    "            seen.add(newPos)\n",
    "            queue.addLast(newPos)\n",
    "        }\n",
    "    } else if (curr == '\\\\') {\n",
    "        val tempDr = dc\n",
    "        dc = dr\n",
    "        dr = tempDr\n",
    "\n",
    "        newPos = Quadruple(r, c, dr, dc)\n",
    "        if (newPos !in seen) {\n",
    "            seen.add(newPos)\n",
    "            queue.addLast(newPos)\n",
    "        }\n",
    "    } else {\n",
    "        val directions = if (curr == '|') {\n",
    "            listOf(1 to 0, -1 to 0)\n",
    "        } else {\n",
    "            listOf(0 to 1, 0 to -1)\n",
    "        }\n",
    "\n",
    "        for ((dirRow, dirCol) in directions) {\n",
    "            newPos = Quadruple(r, c, dirRow, dirCol)\n",
    "            if (newPos !in seen) {\n",
    "                seen.add(newPos)\n",
    "                queue.addLast(newPos)\n",
    "            }\n",
    "        }\n",
    "    }\n",
    "}\n",
    "\n",
    "\n",
    "seen.map { (r, c, _, _) -> r to c }.toSet().size"
   ],
   "metadata": {
    "collapsed": true,
    "ExecuteTime": {
     "end_time": "2023-12-16T13:16:35.537858Z",
     "start_time": "2023-12-16T13:16:35.393130Z"
    }
   }
  },
  {
   "cell_type": "markdown",
   "source": [
    "## Pt 2"
   ],
   "metadata": {
    "collapsed": false
   }
  },
  {
   "cell_type": "code",
   "execution_count": 21,
   "outputs": [
    {
     "data": {
      "text/plain": "7488"
     },
     "execution_count": 21,
     "metadata": {},
     "output_type": "execute_result"
    }
   ],
   "source": [
    "val grid = File(\"input.txt\").readLines()\n",
    "\n",
    "data class Quadruple<T1, T2, T3, T4>(val t1: T1, val t2: T2, val t3: T3, val t4: T4)\n",
    "\n",
    "fun calcEnergized(state: Quadruple<Int, Int, Int, Int>): Int {\n",
    "    val seen = mutableSetOf<Quadruple<Int, Int, Int, Int>>()\n",
    "    val queue = ArrayDeque<Quadruple<Int, Int, Int, Int>>()\n",
    "    queue.addLast(state)\n",
    "\n",
    "    while (queue.isNotEmpty()) {\n",
    "        lateinit var newPos: Quadruple<Int, Int, Int, Int>\n",
    "        var (r, c, dr, dc) = queue.removeFirst()\n",
    "\n",
    "        r += dr\n",
    "        c += dc\n",
    "\n",
    "        if (r < 0 || r >= grid.size || c < 0 || c >= grid[0].length) {\n",
    "            continue\n",
    "        }\n",
    "\n",
    "        val curr = grid[r][c]\n",
    "\n",
    "\n",
    "        if (curr == '.' || (curr == '-' && dc != 0) || (curr == '|' && dr != 0)) {\n",
    "            newPos = Quadruple(r, c, dr, dc)\n",
    "            if (newPos !in seen) {\n",
    "                seen.add(newPos)\n",
    "                queue.addLast(newPos)\n",
    "            }\n",
    "        } else if (curr == '/') {\n",
    "            val tempDr = -dc\n",
    "            val tempDc = -dr\n",
    "            dr = tempDr\n",
    "            dc = tempDc\n",
    "            newPos = Quadruple(r, c, dr, dc)\n",
    "            if (newPos !in seen) {\n",
    "                seen.add(newPos)\n",
    "                queue.addLast(newPos)\n",
    "            }\n",
    "        } else if (curr == '\\\\') {\n",
    "            val tempDr = dc\n",
    "            dc = dr\n",
    "            dr = tempDr\n",
    "\n",
    "            newPos = Quadruple(r, c, dr, dc)\n",
    "            if (newPos !in seen) {\n",
    "                seen.add(newPos)\n",
    "                queue.addLast(newPos)\n",
    "            }\n",
    "        } else {\n",
    "            val directions = if (curr == '|') {\n",
    "                listOf(1 to 0, -1 to 0)\n",
    "            } else {\n",
    "                listOf(0 to 1, 0 to -1)\n",
    "            }\n",
    "\n",
    "            for ((dirRow, dirCol) in directions) {\n",
    "                newPos = Quadruple(r, c, dirRow, dirCol)\n",
    "                if (newPos !in seen) {\n",
    "                    seen.add(newPos)\n",
    "                    queue.addLast(newPos)\n",
    "                }\n",
    "            }\n",
    "        }\n",
    "    }\n",
    "\n",
    "    return seen.map { (r, c, _, _) -> r to c }.toSet().size\n",
    "}\n",
    "\n",
    "var max = 0\n",
    "\n",
    "for (r in 0 until grid.size) {\n",
    "    max = max(max, calcEnergized(Quadruple(r, -1, 0, 1)))\n",
    "    max = max(max, calcEnergized(Quadruple(r, grid[0].length, 0, -1)))\n",
    "}\n",
    "\n",
    "for (c in 0 until grid.size) {\n",
    "    max = max(max, calcEnergized(Quadruple(-1, c, 1, 0)))\n",
    "    max = max(max, calcEnergized(Quadruple(grid.size, c, -1, 0)))\n",
    "}\n",
    "\n",
    "max"
   ],
   "metadata": {
    "collapsed": false,
    "ExecuteTime": {
     "end_time": "2023-12-16T13:25:00.437909Z",
     "start_time": "2023-12-16T13:24:59.753607Z"
    }
   }
  },
  {
   "cell_type": "code",
   "execution_count": 20,
   "outputs": [],
   "source": [],
   "metadata": {
    "collapsed": false,
    "ExecuteTime": {
     "end_time": "2023-12-16T13:24:57.635399Z",
     "start_time": "2023-12-16T13:24:57.626801Z"
    }
   }
  }
 ],
 "metadata": {
  "kernelspec": {
   "display_name": "Kotlin",
   "language": "kotlin",
   "name": "kotlin"
  },
  "language_info": {
   "name": "kotlin",
   "version": "1.9.0",
   "mimetype": "text/x-kotlin",
   "file_extension": ".kt",
   "pygments_lexer": "kotlin",
   "codemirror_mode": "text/x-kotlin",
   "nbconvert_exporter": ""
  }
 },
 "nbformat": 4,
 "nbformat_minor": 0
}
