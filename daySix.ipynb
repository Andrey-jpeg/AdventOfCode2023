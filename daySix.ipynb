{
 "cells": [
  {
   "cell_type": "code",
   "execution_count": 8,
   "metadata": {
    "collapsed": true,
    "ExecuteTime": {
     "end_time": "2023-12-06T10:02:08.376994Z",
     "start_time": "2023-12-06T10:02:07.885911Z"
    }
   },
   "outputs": [
    {
     "data": {
      "text/plain": "227850"
     },
     "execution_count": 8,
     "metadata": {},
     "output_type": "execute_result"
    }
   ],
   "source": [
    "val lines = File(\"daySix.txt\").readLines()\n",
    "val numOfWins = mutableListOf<Double>()\n",
    "\n",
    "val times = lines[0]\n",
    "val distances = lines[1]\n",
    "\n",
    "val intTimes = Regex(\"\\\\d+\").findAll(times).map { it.value.toDouble() }.toList()\n",
    "val intDistances = Regex(\"\\\\d+\").findAll(distances).map { it.value.toDouble() }.toList()\n",
    "\n",
    "val timesAndDistances = intTimes.zip(intDistances)\n",
    "\n",
    "timesAndDistances.forEach {\n",
    "    val lowerBound = it.first / 2 - sqrt(-it.second + it.first * it.first / 4)\n",
    "    val upperBound = it.first / 2 + sqrt(-it.second + it.first * it.first / 4)\n",
    "    val newLowerBound = ceil(lowerBound)\n",
    "    val newUpperBound = floor(upperBound)\n",
    "    numOfWins.add(newUpperBound - newLowerBound + 1)\n",
    "}\n",
    "\n",
    "numOfWins.fold(1.0) { accumulator, currentValue -> accumulator * currentValue }.toInt()"
   ]
  },
  {
   "cell_type": "code",
   "execution_count": 12,
   "outputs": [
    {
     "data": {
      "text/plain": "42948149"
     },
     "execution_count": 12,
     "metadata": {},
     "output_type": "execute_result"
    }
   ],
   "source": [
    "val lines = File(\"daySix.txt\").readLines()\n",
    "val numOfWins = mutableListOf<Double>()\n",
    "\n",
    "val times = lines[0].replace(\"\\\\s\".toRegex(), \"\")\n",
    "val distances = lines[1].replace(\"\\\\s\".toRegex(), \"\")\n",
    "\n",
    "val intTimes = Regex(\"\\\\d+\").findAll(times).map { it.value.toDouble() }.toList()\n",
    "val intDistances = Regex(\"\\\\d+\").findAll(distances).map { it.value.toDouble() }.toList()\n",
    "\n",
    "val timesAndDistances = intTimes.zip(intDistances)\n",
    "\n",
    "timesAndDistances.forEach {\n",
    "    val lowerBound = it.first / 2 - sqrt(-it.second + it.first * it.first / 4)\n",
    "    val upperBound = it.first / 2 + sqrt(-it.second + it.first * it.first / 4)\n",
    "    val newLowerBound = ceil(lowerBound)\n",
    "    val newUpperBound = floor(upperBound)\n",
    "    numOfWins.add(newUpperBound - newLowerBound + 1)\n",
    "}\n",
    "\n",
    "numOfWins.fold(1.0) { accumulator, currentValue -> accumulator * currentValue }.toInt()"
   ],
   "metadata": {
    "collapsed": false,
    "ExecuteTime": {
     "end_time": "2023-12-06T10:05:33.444568Z",
     "start_time": "2023-12-06T10:05:33.009924Z"
    }
   }
  },
  {
   "cell_type": "code",
   "execution_count": null,
   "outputs": [],
   "source": [],
   "metadata": {
    "collapsed": false
   }
  }
 ],
 "metadata": {
  "kernelspec": {
   "display_name": "Kotlin",
   "language": "kotlin",
   "name": "kotlin"
  },
  "language_info": {
   "name": "kotlin",
   "version": "1.9.0",
   "mimetype": "text/x-kotlin",
   "file_extension": ".kt",
   "pygments_lexer": "kotlin",
   "codemirror_mode": "text/x-kotlin",
   "nbconvert_exporter": ""
  }
 },
 "nbformat": 4,
 "nbformat_minor": 0
}
