{
 "cells": [
  {
   "cell_type": "code",
   "execution_count": 9,
   "metadata": {
    "collapsed": true,
    "ExecuteTime": {
     "end_time": "2023-12-25T09:50:42.663136Z",
     "start_time": "2023-12-25T09:50:42.274397Z"
    }
   },
   "outputs": [
    {
     "data": {
      "text/plain": "403"
     },
     "execution_count": 9,
     "metadata": {},
     "output_type": "execute_result"
    }
   ],
   "source": [
    "val bricks = File(\"input.txt\").readLines().map { line ->\n",
    "    line.replace(\"~\", \",\").split(\",\").map { it.toInt() }.toMutableList()\n",
    "}.sortedBy { it[2] }\n",
    "\n",
    "fun overlaps(a: List<Int>, b: List<Int>): Boolean {\n",
    "    return maxOf(a[0], b[0]) <= minOf(a[3], b[3]) && maxOf(a[1], b[1]) <= minOf(a[4], b[4])\n",
    "}\n",
    "\n",
    "for ((i, brick) in bricks.withIndex()) {\n",
    "    var maxZ = 1\n",
    "    for (check in bricks.subList(0, i)) {\n",
    "        if (overlaps(brick, check)) {\n",
    "            maxZ = max(maxZ, check[5] + 1)\n",
    "        }\n",
    "    }\n",
    "    brick[5] -= brick[2] - maxZ\n",
    "    brick[2] = maxZ\n",
    "}\n",
    "\n",
    "val sorted = bricks.sortedBy { it[2] }\n",
    "\n",
    "val kSupportsV = Array(size = bricks.size) { mutableSetOf<Int>() }\n",
    "val vSupportsK = Array(size = bricks.size) { mutableSetOf<Int>() }\n",
    "\n",
    "for (j in bricks.indices) {\n",
    "    val upper = bricks[j]\n",
    "    for (i in 0 until j) {\n",
    "        val lower = bricks[i]\n",
    "        if (overlaps(lower, upper) && upper[2] == lower[5] + 1) {\n",
    "            kSupportsV[i].add(j)\n",
    "            vSupportsK[j].add(i)\n",
    "        }\n",
    "    }\n",
    "}\n",
    "\n",
    "bricks.indices.fold(0) { acc, i ->\n",
    "    if (kSupportsV[i].all { j -> vSupportsK[j].size >= 2 }) {\n",
    "        acc + 1\n",
    "    } else {\n",
    "        acc\n",
    "    }\n",
    "}"
   ]
  },
  {
   "cell_type": "code",
   "outputs": [
    {
     "data": {
      "text/plain": "70189"
     },
     "execution_count": 10,
     "metadata": {},
     "output_type": "execute_result"
    }
   ],
   "source": [
    "val bricks = File(\"input.txt\").readLines().map { line ->\n",
    "    line.replace(\"~\", \",\").split(\",\").map { it.toInt() }.toMutableList()\n",
    "}.sortedBy { it[2] }\n",
    "\n",
    "fun overlaps(a: List<Int>, b: List<Int>): Boolean {\n",
    "    return maxOf(a[0], b[0]) <= minOf(a[3], b[3]) && maxOf(a[1], b[1]) <= minOf(a[4], b[4])\n",
    "}\n",
    "\n",
    "for ((i, brick) in bricks.withIndex()) {\n",
    "    var maxZ = 1\n",
    "    for (check in bricks.subList(0, i)) {\n",
    "        if (overlaps(brick, check)) {\n",
    "            maxZ = max(maxZ, check[5] + 1)\n",
    "        }\n",
    "    }\n",
    "    brick[5] -= brick[2] - maxZ\n",
    "    brick[2] = maxZ\n",
    "}\n",
    "\n",
    "val sorted = bricks.sortedBy { it[2] }\n",
    "\n",
    "val kSupportsV = Array(size = bricks.size) { mutableSetOf<Int>() }\n",
    "val vSupportsK = Array(size = bricks.size) { mutableSetOf<Int>() }\n",
    "\n",
    "for (j in bricks.indices) {\n",
    "    val upper = bricks[j]\n",
    "    for (i in 0 until j) {\n",
    "        val lower = bricks[i]\n",
    "        if (overlaps(lower, upper) && upper[2] == lower[5] + 1) {\n",
    "            kSupportsV[i].add(j)\n",
    "            vSupportsK[j].add(i)\n",
    "        }\n",
    "    }\n",
    "}\n",
    "\n",
    "bricks.indices.fold(0) { acc, i ->\n",
    "    val queue = ArrayDeque(kSupportsV[i].filter { j -> vSupportsK[j].size == 1 })\n",
    "    val falling = queue.toMutableSet()\n",
    "    falling.add(i)\n",
    "\n",
    "    while (queue.isNotEmpty()) {\n",
    "        val j = queue.removeFirst()\n",
    "        for (k in kSupportsV[j] - falling) {\n",
    "            if (falling.containsAll(vSupportsK[k])) {\n",
    "                queue.add(k)\n",
    "                falling.add(k)\n",
    "            }\n",
    "        }\n",
    "    }\n",
    "    acc + falling.size - 1\n",
    "}"
   ],
   "metadata": {
    "collapsed": false,
    "ExecuteTime": {
     "end_time": "2023-12-25T09:50:43.026041Z",
     "start_time": "2023-12-25T09:50:42.658256Z"
    }
   },
   "execution_count": 10
  }
 ],
 "metadata": {
  "kernelspec": {
   "display_name": "Kotlin",
   "language": "kotlin",
   "name": "kotlin"
  },
  "language_info": {
   "name": "kotlin",
   "version": "1.9.0",
   "mimetype": "text/x-kotlin",
   "file_extension": ".kt",
   "pygments_lexer": "kotlin",
   "codemirror_mode": "text/x-kotlin",
   "nbconvert_exporter": ""
  }
 },
 "nbformat": 4,
 "nbformat_minor": 0
}
